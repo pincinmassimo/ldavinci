{
 "cells": [
  {
   "cell_type": "markdown",
   "metadata": {},
   "source": [
    "# Object Oriented Programming\n",
    "\n",
    "Una **classe** definisce la struttura degli oggetti che gli appartengono.\n",
    "Un **oggetto** è un'istanza di una classe.\n",
    "\n",
    "Gli oggetti possono avere:\n",
    "- **attributi**: proprietà di un oggetto, es. colore\n",
    "- **metodi**: comportamenti di un oggetto, es. un cane può abbaiare\n",
    "\n",
    "Concetti fondamentali:\n",
    "- **--init--**: metodo speciale (dunder) che definisce lo stato iniziale di un oggetto\n",
    "- **self**: riferimento all'oggetto corrente"
   ]
  },
  {
   "cell_type": "markdown",
   "metadata": {},
   "source": [
    "## Esercizio 1: studenti\n",
    "\n",
    "Definire una classe Student. I membri (istanze) di questa classe devono avere un nome, un'età e una lista di voti (da 1 a 100). Creare due metodi: uno che controlla se lo studente passerà la classe (i.e. calcola la media aritmetica dei voti e ritorna True se la media è superiore a 2) e uno che stampa le informazioni sullo studente nel formato \"Lo studente ABC, età X, ha la media dei voti Y\"."
   ]
  },
  {
   "cell_type": "code",
   "execution_count": null,
   "metadata": {},
   "outputs": [],
   "source": []
  },
  {
   "cell_type": "markdown",
   "metadata": {},
   "source": [
    "## Esercizio 2: conto bancario\n",
    "\n",
    "Definire una classe BankAccount. I membri di questa classe devono avere un numero che rappresenta l'IBAN e un totale. Vogliamo tre metodi:\n",
    "- show_balance() che mostra il totale corrente\n",
    "- withdraw(amount) che diminuisce il totale di amount\n",
    "- deposit(amount) che aumenta il totale di amount"
   ]
  },
  {
   "cell_type": "code",
   "execution_count": null,
   "metadata": {},
   "outputs": [],
   "source": []
  }
 ],
 "metadata": {
  "kernelspec": {
   "display_name": "Python 3",
   "language": "python",
   "name": "python3"
  },
  "language_info": {
   "codemirror_mode": {
    "name": "ipython",
    "version": 3
   },
   "file_extension": ".py",
   "mimetype": "text/x-python",
   "name": "python",
   "nbconvert_exporter": "python",
   "pygments_lexer": "ipython3",
   "version": "3.8.5"
  }
 },
 "nbformat": 4,
 "nbformat_minor": 4
}
