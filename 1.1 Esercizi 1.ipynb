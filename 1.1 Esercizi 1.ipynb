{
 "cells": [
  {
   "cell_type": "markdown",
   "metadata": {},
   "source": [
    "# Esercizio 1: convertitore gradi\n",
    "\n",
    "Scrivere una funzione che prende in input un numero (gradi Celsius) e una lettera, 'k' o 'f'. Se la lettera è 'k', la funzione stampa e ritorna il valore in Kelvin, mentre se la lettera è 'f' stampa e ritorna il valore in Fahrenheit.\n",
    "\n",
    "Hints:\n",
    "- non serve usare 'input', basta settare i valori di input manualmente\n",
    "- quanti input avrà la funzione?\n",
    "- come gestire il caso dove la lettera non è ne 'k' ne 'f'?"
   ]
  },
  {
   "cell_type": "code",
   "execution_count": 1,
   "metadata": {},
   "outputs": [],
   "source": [
    "# codice"
   ]
  },
  {
   "cell_type": "markdown",
   "metadata": {},
   "source": [
    "# Esercizio 2: numeri primi\n",
    "\n",
    "Scrivere una funzione che prende in input un numero e stampa '{numero} è Primo!' (e ritorna True) se è primo, altrimenti stampa '{numero} è Secondo...' (e ritorna False).\n",
    "\n",
    "Hints:\n",
    "- quanti potenziali divisori serve controllare per sapere se un numero è primo?\n",
    "- come controllare se un numero è divisibile per un altro numero?"
   ]
  },
  {
   "cell_type": "code",
   "execution_count": 2,
   "metadata": {},
   "outputs": [],
   "source": [
    "# codice"
   ]
  },
  {
   "cell_type": "markdown",
   "metadata": {},
   "source": [
    "# Esercizio 3: indovina il numero\n",
    "\n",
    "Scrivere una funzione che, dopo aver generato in modo random un numero da 1 a 100, prende in input i tentativi dell'utente finché l'utente non avrà indovinato il numero. Se l'utente inserisce un numero più alto del numero da indovinare stampa 'troppo alto', se più basso stampa 'troppo basso'.\n",
    "\n",
    "Hints:\n",
    "- l'input deve stare nel ciclo (quale ciclo usiamo?)\n",
    "- per generare un numero intero random da 1 a 100 si usa random.randint(1, 100)"
   ]
  },
  {
   "cell_type": "code",
   "execution_count": 3,
   "metadata": {},
   "outputs": [],
   "source": [
    "# codice"
   ]
  }
 ],
 "metadata": {
  "kernelspec": {
   "display_name": "Python 3",
   "language": "python",
   "name": "python3"
  },
  "language_info": {
   "codemirror_mode": {
    "name": "ipython",
    "version": 3
   },
   "file_extension": ".py",
   "mimetype": "text/x-python",
   "name": "python",
   "nbconvert_exporter": "python",
   "pygments_lexer": "ipython3",
   "version": "3.8.5"
  }
 },
 "nbformat": 4,
 "nbformat_minor": 4
}
