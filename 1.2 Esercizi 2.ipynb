{
 "cells": [
  {
   "cell_type": "markdown",
   "metadata": {},
   "source": [
    "# Esercizio 4: FizzBuzz\n",
    "\n",
    "Scrivere una funzione FizzBuzz() che stampa i numeri da 1 a 100, ma:\n",
    "- se il numero è multiplo di 3, stampa \"Fizz\"\n",
    "- se il numero è multiplo di 5, stampa \"Buzz\"\n",
    "- se il numero è multiplo sia di 3 che di 5, stampa \"FizzBuzz\".\n",
    "\n",
    "Attenzione all'ordine delle condizioni!"
   ]
  },
  {
   "cell_type": "code",
   "execution_count": null,
   "metadata": {},
   "outputs": [],
   "source": [
    "# codice"
   ]
  },
  {
   "cell_type": "code",
   "execution_count": null,
   "metadata": {},
   "outputs": [],
   "source": [
    "FizzBuzz()"
   ]
  },
  {
   "cell_type": "markdown",
   "metadata": {},
   "source": [
    "# Esercizio 5: somma di numeri\n",
    "\n",
    "Scrivere una funzione che prende in input una lista di numeri e stampa la loro somma."
   ]
  },
  {
   "cell_type": "code",
   "execution_count": null,
   "metadata": {},
   "outputs": [],
   "source": [
    "# codice"
   ]
  },
  {
   "cell_type": "code",
   "execution_count": 4,
   "metadata": {},
   "outputs": [],
   "source": [
    "a = [1, -1, 1, -1]\n",
    "b = [1, 2, 3, 4, 5, 6, 7, 8, 9, 10]\n",
    "c = [i for i in range(101)] # numeri da 0 a 100"
   ]
  },
  {
   "cell_type": "markdown",
   "metadata": {},
   "source": [
    "# Esercizio 6: somma pari o dispari?\n",
    "\n",
    "Scrivere una funzione che prende in input una lista di numeri e stampa:\n",
    "- pari, se la somma dei numeri nella lista è pari\n",
    "- dispari, se la somma dei numeri nella lista è dispari\n",
    "\n",
    "Usare la funzione scritta nell'esercizio precedente."
   ]
  },
  {
   "cell_type": "code",
   "execution_count": 5,
   "metadata": {},
   "outputs": [],
   "source": [
    "# codice"
   ]
  },
  {
   "cell_type": "code",
   "execution_count": 7,
   "metadata": {},
   "outputs": [],
   "source": [
    "# test"
   ]
  }
 ],
 "metadata": {
  "kernelspec": {
   "display_name": "Python 3",
   "language": "python",
   "name": "python3"
  },
  "language_info": {
   "codemirror_mode": {
    "name": "ipython",
    "version": 3
   },
   "file_extension": ".py",
   "mimetype": "text/x-python",
   "name": "python",
   "nbconvert_exporter": "python",
   "pygments_lexer": "ipython3",
   "version": "3.8.5"
  }
 },
 "nbformat": 4,
 "nbformat_minor": 4
}
