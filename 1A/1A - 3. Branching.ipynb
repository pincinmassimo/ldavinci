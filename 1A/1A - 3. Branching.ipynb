{
 "cells": [
  {
   "cell_type": "markdown",
   "id": "627a3938-a4a5-4ddd-8f17-69a05acd1dc8",
   "metadata": {},
   "source": [
    "### Esercizio di ripetizione\n",
    "\n",
    "Scrivere un programma che prende in input 3 variabili: **nome, età e colore preferito**, e poi stampa un riassunto come\n",
    "\n",
    "\"Il mio nome è **Giovanni**, ho **51** anni e il mio colore preferito è il **blu**.\""
   ]
  },
  {
   "cell_type": "code",
   "execution_count": 1,
   "id": "3ed22ad7-57a5-41c7-9536-3209454cf073",
   "metadata": {},
   "outputs": [],
   "source": [
    "# codice"
   ]
  },
  {
   "cell_type": "markdown",
   "id": "3b9b18d7-cfd8-4fdb-af74-35a9b48f1dc4",
   "metadata": {},
   "source": [
    "# Branching: if-else"
   ]
  },
  {
   "cell_type": "markdown",
   "id": "513e81b4-13ff-4c21-91dc-4d985deead12",
   "metadata": {},
   "source": [
    "Esempio iniziale: prendiamo un numero in input. Se il numero è maggiore di 10 vogliamo stampare \"GRANDE\", altrimenti \"piccolo\". Come fare?\n",
    "\n",
    "Introduciamo le **condizioni**."
   ]
  },
  {
   "cell_type": "markdown",
   "id": "01b26447-53a4-4356-a591-b6bf07c95465",
   "metadata": {},
   "source": [
    "### Esercizio\n",
    "Inizializzare una variabile, **x**, che prende in input un numero. Poi stampare \"x è *(valore di x)*\"."
   ]
  },
  {
   "cell_type": "code",
   "execution_count": null,
   "id": "ffc4deb3-edaa-49a9-8380-5fde1338dfbe",
   "metadata": {},
   "outputs": [],
   "source": [
    "# codice"
   ]
  },
  {
   "cell_type": "markdown",
   "id": "b9c0eafc-ed8a-4c8c-96e5-7f6ece579872",
   "metadata": {},
   "source": [
    "Logica: se (if) **x** è maggiore di 10 stampiamo \"GRANDE\", altrimenti (else) stampiamo \"piccolo\"."
   ]
  },
  {
   "cell_type": "code",
   "execution_count": 2,
   "id": "b6bc7a7f-406a-4219-ad5d-fa11d1293b9e",
   "metadata": {
    "collapsed": true,
    "jupyter": {
     "outputs_hidden": true
    },
    "scrolled": true
   },
   "outputs": [
    {
     "ename": "NameError",
     "evalue": "name 'x' is not defined",
     "output_type": "error",
     "traceback": [
      "\u001b[1;31m---------------------------------------------------------------------------\u001b[0m",
      "\u001b[1;31mNameError\u001b[0m                                 Traceback (most recent call last)",
      "Cell \u001b[1;32mIn[2], line 1\u001b[0m\n\u001b[1;32m----> 1\u001b[0m \u001b[38;5;28;01mif\u001b[39;00m x \u001b[38;5;241m>\u001b[39m \u001b[38;5;241m10\u001b[39m:\n\u001b[0;32m      2\u001b[0m     \u001b[38;5;28mprint\u001b[39m(\u001b[38;5;124m\"\u001b[39m\u001b[38;5;124mGRANDE\u001b[39m\u001b[38;5;124m\"\u001b[39m)\n\u001b[0;32m      3\u001b[0m \u001b[38;5;28;01melse\u001b[39;00m:\n",
      "\u001b[1;31mNameError\u001b[0m: name 'x' is not defined"
     ]
    }
   ],
   "source": [
    "if x > 10:\n",
    "    print(\"GRANDE\")\n",
    "else:\n",
    "    print(\"piccolo\")"
   ]
  },
  {
   "cell_type": "markdown",
   "id": "a7979597-5219-406e-82c5-81b9c80200d5",
   "metadata": {},
   "source": [
    "### Esercizio\n",
    "\n",
    "Inizializzare una variabile **x** e assegnargli un numero che rappresenterà la temperatura. Poi stampare \"caldo\" se la temperatura è sopra i 20 gradi, altrimenti \"freddo\"."
   ]
  },
  {
   "cell_type": "code",
   "execution_count": 4,
   "id": "4bb5950c-88cc-4116-81ae-c6241a08bf8c",
   "metadata": {},
   "outputs": [],
   "source": [
    "# codice"
   ]
  },
  {
   "cell_type": "markdown",
   "id": "4dcad2ff-d36e-4fd3-8499-f2b5a89b5333",
   "metadata": {},
   "source": [
    "## Più condizioni: if-elif-else"
   ]
  },
  {
   "cell_type": "code",
   "execution_count": null,
   "id": "46d27d97-732d-4cf0-a157-93d0f8d8f23c",
   "metadata": {},
   "outputs": [],
   "source": [
    "if x > 10:\n",
    "    print(\"GRANDE\")\n",
    "elif x > 5:\n",
    "    print(\"Medio\")\n",
    "else:\n",
    "    print(\"piccolo\")"
   ]
  },
  {
   "cell_type": "markdown",
   "id": "377ce22c-d7e7-47be-91e9-7a6a15fcd25b",
   "metadata": {},
   "source": [
    "### Esercizio\n",
    "\n",
    "Scrivi un programma che prende in input un numero, che rappresenta la percentuale ottenuta su un test. Poi stampare il voto ottenuto:\n",
    "\n",
    "90% o più --> 5\n",
    "\n",
    "75% o più --> 4\n",
    "\n",
    "60% o più --> 3\n",
    "\n",
    "45% o più --> 2\n",
    "\n",
    "sotto i 45% --> 1"
   ]
  },
  {
   "cell_type": "code",
   "execution_count": 3,
   "id": "d074e4b8-38f9-4364-85c1-dd66faa3c6ec",
   "metadata": {},
   "outputs": [],
   "source": [
    "# codice"
   ]
  },
  {
   "cell_type": "markdown",
   "id": "4d5b1898-470f-47bf-9ef9-d0c6da0831dc",
   "metadata": {},
   "source": [
    "### Esercizio bonus\n",
    "\n",
    "Modifica l'esercizio precedente:\n",
    "1. Prendi in input 2 variabili: una è il **punteggio** ottenuto al test, l'altra il punteggio **totale**. (esempio: 25/30)\n",
    "2. Inizializza un'altra variabile che sarà la percentuale ottenuta.\n",
    "3. Stampa qualcosa del tipo: \"Hai ottenuto 15/30, che è una percentuale del 50%. Hai ricevuto il voto 2.\""
   ]
  },
  {
   "cell_type": "code",
   "execution_count": 2,
   "id": "c031136c-21ad-488a-85c8-313256c8848b",
   "metadata": {},
   "outputs": [],
   "source": [
    "# codice"
   ]
  },
  {
   "cell_type": "markdown",
   "id": "e09a89f5-0de7-452f-ad92-93cb6c988dad",
   "metadata": {},
   "source": [
    "### Esercizio\n",
    "\n",
    "1. Inizializzare una variabile **segreto** che contiene un numero a vostra scelta.\n",
    "2. Inizializzare una variabile **tentativo** che prende in input un numero.\n",
    "3. Se il tentativo è uguale (*nota: l'uguaglianza si controlla con DUE UGUALI: ==*) al segreto stampa \"Bravo!\", altrimenti stampa \"Riprova!\"."
   ]
  },
  {
   "cell_type": "code",
   "execution_count": 5,
   "id": "878b2f9e-0230-4a20-8c61-77fe743d207e",
   "metadata": {},
   "outputs": [],
   "source": [
    "# codice"
   ]
  }
 ],
 "metadata": {
  "kernelspec": {
   "display_name": "Python 3 (ipykernel)",
   "language": "python",
   "name": "python3"
  },
  "language_info": {
   "codemirror_mode": {
    "name": "ipython",
    "version": 3
   },
   "file_extension": ".py",
   "mimetype": "text/x-python",
   "name": "python",
   "nbconvert_exporter": "python",
   "pygments_lexer": "ipython3",
   "version": "3.12.7"
  }
 },
 "nbformat": 4,
 "nbformat_minor": 5
}
