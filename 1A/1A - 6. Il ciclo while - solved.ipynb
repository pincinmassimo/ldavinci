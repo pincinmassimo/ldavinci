{
 "cells": [
  {
   "cell_type": "markdown",
   "id": "6fc1e47d-49a4-4e39-ada4-9bf17c071ce3",
   "metadata": {},
   "source": [
    "# Il ciclo while\n",
    "\n",
    "while = finché"
   ]
  },
  {
   "cell_type": "code",
   "execution_count": 1,
   "id": "ff0a6186-547f-4950-97e6-1b9c44c012dc",
   "metadata": {},
   "outputs": [
    {
     "name": "stdout",
     "output_type": "stream",
     "text": [
      "1\n",
      "2\n",
      "3\n",
      "4\n",
      "5\n"
     ]
    }
   ],
   "source": [
    "x = 1  \n",
    "while x <= 5:  \n",
    "    print(x)  \n",
    "    x += 1"
   ]
  },
  {
   "cell_type": "markdown",
   "id": "9a8c1403-83e9-4690-982b-54c9cd344140",
   "metadata": {},
   "source": [
    "Problema: se non sappiamo cosa stiamo facendo, il ciclo può andare all'infinito..."
   ]
  },
  {
   "cell_type": "code",
   "execution_count": null,
   "id": "230e2e0e-16f8-4ab7-bb31-f4cb636e57f5",
   "metadata": {},
   "outputs": [],
   "source": [
    "x = 1  \n",
    "while x > 0:\n",
    "    print(x)"
   ]
  },
  {
   "cell_type": "markdown",
   "id": "a07cfaf7-774b-4edd-841d-6345f53aa3b0",
   "metadata": {},
   "source": [
    "Perché?"
   ]
  },
  {
   "cell_type": "markdown",
   "id": "ac9970d6-9b94-4197-ab25-47f69b85f457",
   "metadata": {},
   "source": [
    "### Esercizio 1\n",
    "\n",
    "Stampare i numeri da 1 a 10 usando un ciclo while."
   ]
  },
  {
   "cell_type": "code",
   "execution_count": 2,
   "id": "4b2e9d8e-9143-4770-995c-36187f9b1729",
   "metadata": {},
   "outputs": [
    {
     "name": "stdout",
     "output_type": "stream",
     "text": [
      "1\n",
      "2\n",
      "3\n",
      "4\n",
      "5\n",
      "6\n",
      "7\n",
      "8\n",
      "9\n",
      "10\n"
     ]
    }
   ],
   "source": [
    "x = 1\n",
    "while x <= 10:\n",
    "    print(x)\n",
    "    x+=1"
   ]
  },
  {
   "cell_type": "markdown",
   "id": "bde637de-269b-49fe-b3e3-3f6d2144ec3d",
   "metadata": {},
   "source": [
    "### Esercizio 2\n",
    "\n",
    "Stampare i numeri **dispari** da 5 a 50 usando un ciclo while."
   ]
  },
  {
   "cell_type": "code",
   "execution_count": 3,
   "id": "ea2650cb-dce3-4f58-a84e-b44582e5b403",
   "metadata": {},
   "outputs": [
    {
     "name": "stdout",
     "output_type": "stream",
     "text": [
      "5\n",
      "7\n",
      "9\n",
      "11\n",
      "13\n",
      "15\n",
      "17\n",
      "19\n",
      "21\n",
      "23\n",
      "25\n",
      "27\n",
      "29\n",
      "31\n",
      "33\n",
      "35\n",
      "37\n",
      "39\n",
      "41\n",
      "43\n",
      "45\n",
      "47\n",
      "49\n"
     ]
    }
   ],
   "source": [
    "x = 5\n",
    "while x <= 50:\n",
    "    print(x)\n",
    "    x+=2"
   ]
  },
  {
   "cell_type": "markdown",
   "id": "d9e8f5e3-a0dc-4d74-ad5a-7f545e5670f8",
   "metadata": {},
   "source": [
    "### Esercizio 3\n",
    "\n",
    "Stampare i numeri **pari** da 10 a 20, ma interrompere il ciclo quando arriviamo al numero 18."
   ]
  },
  {
   "cell_type": "code",
   "execution_count": 4,
   "id": "104cdef9-25f9-47e7-b993-fa7ee6e4d670",
   "metadata": {},
   "outputs": [
    {
     "name": "stdout",
     "output_type": "stream",
     "text": [
      "10\n",
      "12\n",
      "14\n",
      "16\n"
     ]
    }
   ],
   "source": [
    "x = 10\n",
    "while x <= 20:\n",
    "    if x == 18:\n",
    "        break\n",
    "    print(x)\n",
    "    x+=2"
   ]
  }
 ],
 "metadata": {
  "kernelspec": {
   "display_name": "Python 3 (ipykernel)",
   "language": "python",
   "name": "python3"
  },
  "language_info": {
   "codemirror_mode": {
    "name": "ipython",
    "version": 3
   },
   "file_extension": ".py",
   "mimetype": "text/x-python",
   "name": "python",
   "nbconvert_exporter": "python",
   "pygments_lexer": "ipython3",
   "version": "3.12.7"
  }
 },
 "nbformat": 4,
 "nbformat_minor": 5
}
