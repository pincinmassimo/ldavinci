{
 "cells": [
  {
   "cell_type": "markdown",
   "id": "ce2e5207-c30d-4dd5-8fd5-0c07b595eef8",
   "metadata": {},
   "source": [
    "# Liste in Python"
   ]
  },
  {
   "cell_type": "markdown",
   "id": "7ae4ec6e-cb8b-4ef7-90d0-e377aadf1684",
   "metadata": {},
   "source": [
    "Una **lista** è una struttura dati che contiene altri dati. Per creare una lista si usano le parentesi quadre (ALTGR+ŠĐ)."
   ]
  },
  {
   "cell_type": "code",
   "execution_count": 3,
   "id": "3588fd01-13d7-436a-a2b5-95b47be19201",
   "metadata": {},
   "outputs": [],
   "source": [
    "lista = [1, 2, \"abc\", 1000, -5.2]"
   ]
  },
  {
   "cell_type": "code",
   "execution_count": 4,
   "id": "b7e92a12-09b4-444e-9f42-07a74124751c",
   "metadata": {},
   "outputs": [
    {
     "name": "stdout",
     "output_type": "stream",
     "text": [
      "[1, 2, 'abc', 1000, -5.2]\n"
     ]
    }
   ],
   "source": [
    "print(lista)"
   ]
  },
  {
   "cell_type": "markdown",
   "id": "e8791560-ac16-4b34-8ac6-4dd6f581c2d0",
   "metadata": {},
   "source": [
    "Possiamo prendere l'elemento i-esimo della lista usando sempre le parentesi quadre (come abbiamo visto per le stringhe)."
   ]
  },
  {
   "cell_type": "code",
   "execution_count": 8,
   "id": "3f16a1e1-db1b-4959-af86-6dca1d4fd6d2",
   "metadata": {},
   "outputs": [
    {
     "data": {
      "text/plain": [
       "1"
      ]
     },
     "execution_count": 8,
     "metadata": {},
     "output_type": "execute_result"
    }
   ],
   "source": [
    "lista[0]"
   ]
  },
  {
   "cell_type": "markdown",
   "id": "63d3dd44-3078-41ce-9bfa-f4a3e7c32a48",
   "metadata": {},
   "source": [
    "### Esempio\n",
    "Stampare \"Il secondo elemento della lista è ___\"."
   ]
  },
  {
   "cell_type": "code",
   "execution_count": 7,
   "id": "f0c5d42d-c430-4805-a8de-cb1a76aae280",
   "metadata": {},
   "outputs": [
    {
     "name": "stdout",
     "output_type": "stream",
     "text": [
      "L'elemento numero 4 della lista è 1000.\n"
     ]
    }
   ],
   "source": [
    "# SOLUZIONE\n",
    "\n",
    "print(f\"L'elemento numero 4 della lista è {lista[3]}.\")"
   ]
  },
  {
   "cell_type": "markdown",
   "id": "1317d088-02d6-441a-a670-8285acd57e61",
   "metadata": {},
   "source": [
    "### Esercizio 1\n",
    "\n",
    "1. Creare una lista con 7 elementi a vostra scelta e chiamarla **prima_lista**.\n",
    "2. Inizializzare una variabile **indice** che chiede all'utente di inserire un numero.\n",
    "3. Stampare \"L'elemento numero *(indice)* della lista è *(elemento)*\"."
   ]
  },
  {
   "cell_type": "code",
   "execution_count": 9,
   "id": "a314433f-434a-4a33-a84c-f90e2feaf275",
   "metadata": {},
   "outputs": [],
   "source": [
    "# codice"
   ]
  },
  {
   "cell_type": "markdown",
   "id": "70eb5ff2-db7a-4e6d-926c-c1028c39d892",
   "metadata": {},
   "source": [
    "---------------------------------------------"
   ]
  },
  {
   "cell_type": "markdown",
   "id": "3b49a4a1-b17e-4c75-83c5-b28da6519bc7",
   "metadata": {},
   "source": [
    "## Aggiungere elementi a una lista\n",
    "\n",
    "Possiamo aggiungere un elemento a una lista usando lista.append(elemento)."
   ]
  },
  {
   "cell_type": "code",
   "execution_count": 15,
   "id": "9f2b08c8-7562-451d-af32-5162fbfe05bd",
   "metadata": {},
   "outputs": [
    {
     "name": "stdout",
     "output_type": "stream",
     "text": [
      "La lista adesso è: [1, 2]\n"
     ]
    }
   ],
   "source": [
    "lista = [1, 2]\n",
    "print(f\"La lista adesso è: {lista}\")"
   ]
  },
  {
   "cell_type": "code",
   "execution_count": 16,
   "id": "bc83ed31-8c14-43e0-b954-36e817b7262d",
   "metadata": {},
   "outputs": [],
   "source": [
    "# Aggiungiamo un elemento\n",
    "lista.append(10)"
   ]
  },
  {
   "cell_type": "code",
   "execution_count": 17,
   "id": "496d1fe8-786e-4372-885b-86dbcb8bb200",
   "metadata": {},
   "outputs": [
    {
     "name": "stdout",
     "output_type": "stream",
     "text": [
      "La lista adesso è: [1, 2, 10]\n"
     ]
    }
   ],
   "source": [
    "print(f\"La lista adesso è: {lista}\")"
   ]
  },
  {
   "cell_type": "markdown",
   "id": "d9732313-b8c6-4a66-bc7b-01a3bda6805d",
   "metadata": {},
   "source": [
    "### Esercizio 2\n",
    "1. Inizializzare una lista chiamata **lista_2** che contiene i numeri 2 e 7.\n",
    "2. Inizializzare una variabile **x** che chiede all'utente di inserire un numero in input.\n",
    "3. Aggiungere il numero salvato nella variabile **x** alla lista.\n",
    "4. Stampare \"La lista è (lista)\"."
   ]
  },
  {
   "cell_type": "code",
   "execution_count": 19,
   "id": "f1b13858-fdf9-462d-824b-35834c7533db",
   "metadata": {},
   "outputs": [],
   "source": [
    "# codice"
   ]
  },
  {
   "cell_type": "markdown",
   "id": "88b55fb4-6884-4bd6-bf7e-155c6d7ef169",
   "metadata": {},
   "source": [
    "### Esercizio 3\n",
    "1. Inizializzare una variabile **y** che chiede all'utente di inserire un numero in input.\n",
    "2. Se il numero è maggiore di 5, aggiungerlo alla lista_2 creata nell'esercizio precedente.\n",
    "3. Stampare \"La lista è (lista)\"."
   ]
  },
  {
   "cell_type": "code",
   "execution_count": 20,
   "id": "5fc4dfdc-f90e-41f9-9f35-5b22cf85e7bc",
   "metadata": {},
   "outputs": [],
   "source": [
    "# codice"
   ]
  },
  {
   "cell_type": "markdown",
   "id": "84f60d3e-2563-4a59-9f77-11543b958d56",
   "metadata": {},
   "source": [
    "--------------------"
   ]
  },
  {
   "cell_type": "markdown",
   "id": "5d2f6f26-b963-4c2b-a144-04fcc21ec83a",
   "metadata": {},
   "source": [
    "## Lunghezza della lista\n",
    "\n",
    "La lunghezza di una lista si ottiene con la funzione len(lista). Esempio:"
   ]
  },
  {
   "cell_type": "code",
   "execution_count": 21,
   "id": "f5e87c10-41b4-49c4-ad94-256b668bf26b",
   "metadata": {},
   "outputs": [],
   "source": [
    "lista = [1, 2, 100, -2.5]"
   ]
  },
  {
   "cell_type": "code",
   "execution_count": 22,
   "id": "43457852-4eb5-4153-9cde-ea87b69f6e92",
   "metadata": {},
   "outputs": [
    {
     "data": {
      "text/plain": [
       "4"
      ]
     },
     "execution_count": 22,
     "metadata": {},
     "output_type": "execute_result"
    }
   ],
   "source": [
    "len(lista)"
   ]
  },
  {
   "cell_type": "markdown",
   "id": "15add0d3-cfc1-41e9-b2a9-2df854d3d5c5",
   "metadata": {},
   "source": [
    "_____________________________________"
   ]
  },
  {
   "cell_type": "markdown",
   "id": "e8d82a0a-44b6-4d3f-b203-551c01a00b9a",
   "metadata": {},
   "source": [
    "### Esercizio 4\n",
    "1. Inizializzare una lista che si chiama come volete voi e contiene qualsiasi cosa volete.\n",
    "2. Stampare la sua lunghezza in forma: \"La lunghezza della lista (nome_lista) è (lunghezza della lista).\"\n",
    "3. Inizializzare un numero intero **i**.\n",
    "4. Stampare l'elemento i-esimo della lista in forma: \"L'elemento numero (i) della lista è (elemento).\"\n",
    "5. Se la lista contiene *almeno* 3 elementi, stampare \"Grande\". Se la lista ha meno di 3 elementi, stampare \"piccola\"."
   ]
  },
  {
   "cell_type": "code",
   "execution_count": 23,
   "id": "4bc560e7-2419-4ad9-9a44-42b3a7210f1b",
   "metadata": {},
   "outputs": [],
   "source": [
    "# codice"
   ]
  }
 ],
 "metadata": {
  "kernelspec": {
   "display_name": "Python 3 (ipykernel)",
   "language": "python",
   "name": "python3"
  },
  "language_info": {
   "codemirror_mode": {
    "name": "ipython",
    "version": 3
   },
   "file_extension": ".py",
   "mimetype": "text/x-python",
   "name": "python",
   "nbconvert_exporter": "python",
   "pygments_lexer": "ipython3",
   "version": "3.12.7"
  }
 },
 "nbformat": 4,
 "nbformat_minor": 5
}
