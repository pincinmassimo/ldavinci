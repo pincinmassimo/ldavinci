{
 "cells": [
  {
   "cell_type": "markdown",
   "id": "627a3938-a4a5-4ddd-8f17-69a05acd1dc8",
   "metadata": {},
   "source": [
    "### Esercizio di ripetizione\n",
    "\n",
    "Scrivere un programma che prende in input 3 variabili: **nome, età e colore preferito**, e poi stampa un riassunto come\n",
    "\n",
    "\"Il mio nome è **Giovanni**, ho **51** anni e il mio colore preferito è il **blu**.\""
   ]
  },
  {
   "cell_type": "code",
   "execution_count": 1,
   "id": "3ed22ad7-57a5-41c7-9536-3209454cf073",
   "metadata": {},
   "outputs": [],
   "source": [
    "# codice"
   ]
  },
  {
   "cell_type": "markdown",
   "id": "3b9b18d7-cfd8-4fdb-af74-35a9b48f1dc4",
   "metadata": {},
   "source": [
    "# Branching: if-else"
   ]
  },
  {
   "cell_type": "markdown",
   "id": "513e81b4-13ff-4c21-91dc-4d985deead12",
   "metadata": {},
   "source": [
    "Esempio iniziale: prendiamo un numero in input. Se il numero è maggiore di 10 vogliamo stampare \"GRANDE\", altrimenti \"piccolo\". Come fare?\n",
    "\n",
    "Introduciamo le **condizioni**."
   ]
  },
  {
   "cell_type": "markdown",
   "id": "01b26447-53a4-4356-a591-b6bf07c95465",
   "metadata": {},
   "source": [
    "### Esercizio\n",
    "Inizializzare una variabile, **x**, che prende in input un numero. Poi stampare \"x è *(valore di x)*\"."
   ]
  },
  {
   "cell_type": "code",
   "execution_count": 2,
   "id": "ffc4deb3-edaa-49a9-8380-5fde1338dfbe",
   "metadata": {},
   "outputs": [
    {
     "name": "stdout",
     "output_type": "stream",
     "text": [
      "x è 25\n"
     ]
    }
   ],
   "source": [
    "x = 25\n",
    "\n",
    "print(f\"x è {x}\")"
   ]
  },
  {
   "cell_type": "markdown",
   "id": "b9c0eafc-ed8a-4c8c-96e5-7f6ece579872",
   "metadata": {},
   "source": [
    "Logica: se (if) **x** è maggiore di 10 stampiamo \"GRANDE\", altrimenti (else) stampiamo \"piccolo\"."
   ]
  },
  {
   "cell_type": "code",
   "execution_count": 3,
   "id": "b6bc7a7f-406a-4219-ad5d-fa11d1293b9e",
   "metadata": {
    "scrolled": true
   },
   "outputs": [
    {
     "name": "stdout",
     "output_type": "stream",
     "text": [
      "GRANDE\n"
     ]
    }
   ],
   "source": [
    "if x > 10:\n",
    "    print(\"GRANDE\")\n",
    "else:\n",
    "    print(\"piccolo\")"
   ]
  },
  {
   "cell_type": "markdown",
   "id": "a7979597-5219-406e-82c5-81b9c80200d5",
   "metadata": {},
   "source": [
    "### Esercizio\n",
    "\n",
    "Inizializzare una variabile **x** e assegnargli un numero che rappresenterà la temperatura. Poi stampare \"caldo\" se la temperatura è sopra i 20 gradi, altrimenti \"freddo\"."
   ]
  },
  {
   "cell_type": "code",
   "execution_count": 4,
   "id": "4bb5950c-88cc-4116-81ae-c6241a08bf8c",
   "metadata": {},
   "outputs": [
    {
     "name": "stdout",
     "output_type": "stream",
     "text": [
      "Freddo\n"
     ]
    }
   ],
   "source": [
    "x = 17\n",
    "\n",
    "if x > 20:\n",
    "    print(\"Caldo\")\n",
    "else:\n",
    "    print(\"Freddo\")"
   ]
  },
  {
   "cell_type": "markdown",
   "id": "4dcad2ff-d36e-4fd3-8499-f2b5a89b5333",
   "metadata": {},
   "source": [
    "## Più condizioni: if-elif-else"
   ]
  },
  {
   "cell_type": "code",
   "execution_count": 5,
   "id": "46d27d97-732d-4cf0-a157-93d0f8d8f23c",
   "metadata": {},
   "outputs": [
    {
     "name": "stdout",
     "output_type": "stream",
     "text": [
      "GRANDE\n"
     ]
    }
   ],
   "source": [
    "if x > 10:\n",
    "    print(\"GRANDE\")\n",
    "elif x > 5:\n",
    "    print(\"Medio\")\n",
    "else:\n",
    "    print(\"piccolo\")"
   ]
  },
  {
   "cell_type": "markdown",
   "id": "377ce22c-d7e7-47be-91e9-7a6a15fcd25b",
   "metadata": {},
   "source": [
    "### Esercizio\n",
    "\n",
    "Scrivi un programma che prende in input un numero, che rappresenta la percentuale ottenuta su un test. Poi stampare il voto ottenuto:\n",
    "\n",
    "90% o più --> 5\n",
    "\n",
    "75% o più --> 4\n",
    "\n",
    "60% o più --> 3\n",
    "\n",
    "45% o più --> 2\n",
    "\n",
    "sotto i 45% --> 1"
   ]
  },
  {
   "cell_type": "code",
   "execution_count": 6,
   "id": "d074e4b8-38f9-4364-85c1-dd66faa3c6ec",
   "metadata": {},
   "outputs": [
    {
     "name": "stdin",
     "output_type": "stream",
     "text": [
      "Inserisci la percentuale ottenuta:  53\n"
     ]
    },
    {
     "name": "stdout",
     "output_type": "stream",
     "text": [
      "2\n"
     ]
    }
   ],
   "source": [
    "x = int(input(\"Inserisci la percentuale ottenuta: \"))\n",
    "\n",
    "if x >= 90:\n",
    "    print(5)\n",
    "elif x >= 75:\n",
    "    print(4)\n",
    "elif x >= 60:\n",
    "    print(3)\n",
    "elif x >= 45:\n",
    "    print(2)\n",
    "else:\n",
    "    print(1)"
   ]
  },
  {
   "cell_type": "markdown",
   "id": "4d5b1898-470f-47bf-9ef9-d0c6da0831dc",
   "metadata": {},
   "source": [
    "### Esercizio bonus\n",
    "\n",
    "Modifica l'esercizio precedente:\n",
    "1. Prendi in input 2 variabili: una è il **punteggio** ottenuto al test, l'altra il punteggio **totale**. (esempio: 25/30)\n",
    "2. Inizializza un'altra variabile che sarà la percentuale ottenuta.\n",
    "3. Stampa qualcosa del tipo: \"Hai ottenuto 15/30, che è una percentuale del 50%. Hai ricevuto il voto 2.\""
   ]
  },
  {
   "cell_type": "code",
   "execution_count": 8,
   "id": "c031136c-21ad-488a-85c8-313256c8848b",
   "metadata": {},
   "outputs": [
    {
     "name": "stdin",
     "output_type": "stream",
     "text": [
      "Inserisci il punteggio ottenuto:  44\n",
      "Inserisci il punteggio totale:  50\n"
     ]
    },
    {
     "name": "stdout",
     "output_type": "stream",
     "text": [
      "Hai ottenuto 44 punti su 50, che è una percentuale di 88.0. Hai ricevuto il voto 4.\n"
     ]
    }
   ],
   "source": [
    "punteggio = int(input(\"Inserisci il punteggio ottenuto: \"))\n",
    "totale = int(input(\"Inserisci il punteggio totale: \"))\n",
    "\n",
    "percentuale = punteggio / totale * 100\n",
    "\n",
    "if percentuale >= 90:\n",
    "    voto = 5\n",
    "elif percentuale >= 75:\n",
    "    voto = 4\n",
    "elif percentuale >= 60:\n",
    "    voto = 3\n",
    "elif percentuale >= 45:\n",
    "    voto = 2\n",
    "else:\n",
    "    voto = 1\n",
    "\n",
    "print(f\"Hai ottenuto {punteggio} punti su {totale}, che è una percentuale di {percentuale}. Hai ricevuto il voto {voto}.\")"
   ]
  },
  {
   "cell_type": "markdown",
   "id": "e09a89f5-0de7-452f-ad92-93cb6c988dad",
   "metadata": {},
   "source": [
    "### Esercizio\n",
    "\n",
    "1. Inizializzare una variabile **segreto** che contiene un numero a vostra scelta.\n",
    "2. Inizializzare una variabile **tentativo** che prende in input un numero.\n",
    "3. Se il tentativo è uguale (*nota: l'uguaglianza si controlla con DUE UGUALI: ==*) al segreto stampa \"Bravo!\", altrimenti stampa \"Riprova!\"."
   ]
  },
  {
   "cell_type": "code",
   "execution_count": 9,
   "id": "878b2f9e-0230-4a20-8c61-77fe743d207e",
   "metadata": {},
   "outputs": [
    {
     "name": "stdin",
     "output_type": "stream",
     "text": [
      "Inserisci il tuo tentativo:  9\n"
     ]
    },
    {
     "name": "stdout",
     "output_type": "stream",
     "text": [
      "Riprova.\n"
     ]
    }
   ],
   "source": [
    "segreto = 10\n",
    "tentativo = int(input(\"Inserisci il tuo tentativo: \"))\n",
    "\n",
    "if segreto == tentativo:\n",
    "    print(\"Bravo!\")\n",
    "else:\n",
    "    print(\"Riprova.\")"
   ]
  }
 ],
 "metadata": {
  "kernelspec": {
   "display_name": "Python 3 (ipykernel)",
   "language": "python",
   "name": "python3"
  },
  "language_info": {
   "codemirror_mode": {
    "name": "ipython",
    "version": 3
   },
   "file_extension": ".py",
   "mimetype": "text/x-python",
   "name": "python",
   "nbconvert_exporter": "python",
   "pygments_lexer": "ipython3",
   "version": "3.12.7"
  }
 },
 "nbformat": 4,
 "nbformat_minor": 5
}
