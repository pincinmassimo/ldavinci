{
 "cells": [
  {
   "cell_type": "markdown",
   "id": "ec0f12c4-2d8a-4f23-9a1f-34ccbee7ed1f",
   "metadata": {},
   "source": [
    "## Esercizio 1: interazione del ciclo while con input\n",
    "\n",
    "Inizializzare una lista vuota. Chiedere all'utente di inserire dei numeri nella lista **finché non inseriamo il numero 0** (il numero 0 NON deve essere nella lista)."
   ]
  },
  {
   "cell_type": "code",
   "execution_count": 1,
   "id": "57833126-f390-4ae0-a4f3-0f07f2acc2a3",
   "metadata": {},
   "outputs": [],
   "source": [
    "# codice"
   ]
  },
  {
   "cell_type": "markdown",
   "id": "94c5b091-cf0d-4430-9289-c9ff0f6d9377",
   "metadata": {},
   "source": [
    "## Esercizio 2: input e ciclo for\n",
    "\n",
    "Modificare l'esercizio precedente in modo che all'inizio definiamo un numero *n* che rappresenterà la lunghezza della lista, e inseriamo nella lista SOLO n numeri."
   ]
  },
  {
   "cell_type": "code",
   "execution_count": 2,
   "id": "6af27e15-19c4-4b9b-9823-da51f9218cd1",
   "metadata": {},
   "outputs": [],
   "source": [
    "# codice"
   ]
  },
  {
   "cell_type": "markdown",
   "id": "b15ec9de-45cc-49dc-be9b-b1d230e79e62",
   "metadata": {},
   "source": [
    "## Esercizio 3: conteggio di vocali"
   ]
  },
  {
   "cell_type": "markdown",
   "id": "e73a4803-42fb-4c0c-88c9-e084c7921e06",
   "metadata": {},
   "source": [
    "Chiedere all'utente di inserire una parola in input. Stampare il numero di ogni vocale. Per esempio, se la parola è **aereo**:\n",
    "\n",
    "- a: 1\n",
    "- e: 2\n",
    "- i: 0\n",
    "- o: 1\n",
    "- u: 0"
   ]
  },
  {
   "cell_type": "code",
   "execution_count": 3,
   "id": "00f8e030-a275-4811-a8c5-a4d250b04936",
   "metadata": {},
   "outputs": [],
   "source": [
    "# codice"
   ]
  },
  {
   "cell_type": "markdown",
   "id": "09aeaa30-afec-4257-9bec-3f9d833d3db3",
   "metadata": {},
   "source": [
    "## Esercizio 4: FizzBuzz\n",
    "\n",
    "Consideriamo i primi 50 numeri naturali. Stampare i numeri uno per uno, ma:\n",
    "- se è divisibile per 3, stampare \"FIZZ\"\n",
    "- se è divisibile per 5, stampare \"BUZZ\"\n",
    "- se è divisibile per entrambi, stampare \"FIZZBUZZ\".\n",
    "\n",
    "Per i primi 17 numeri: 1, 2, FIZZ, 4, BUZZ, FIZZ, 7, 8, FIZZ, BUZZ, 11, FIZZ, 13, 14, FIZZBUZZ, 16, 17\n",
    "\n",
    "**Hint**: un numero *n* è divisibile per un numero *k* se n%k==0."
   ]
  },
  {
   "cell_type": "code",
   "execution_count": null,
   "id": "1636af48-d0b5-4a86-82cc-913cd5765ad3",
   "metadata": {},
   "outputs": [],
   "source": [
    "# codice"
   ]
  },
  {
   "cell_type": "markdown",
   "id": "a485638d-52f7-4312-b5b0-55308bfd0335",
   "metadata": {},
   "source": [
    "## Esercizio 5: indovina il numero\n",
    "\n",
    "Il codice già scritto genera un numero casuale da 1 a 20 e lo salva nella variabile *segreto*. Scrivere un programma che prende in input i tentativi dell'utente finché non ha indovinato il numero segreto. A ogni passaggio dire se il tentativo è troppo alto o troppo basso."
   ]
  },
  {
   "cell_type": "code",
   "execution_count": 7,
   "id": "7d61e2a9-22c5-49d7-abd3-6eb4833d2620",
   "metadata": {},
   "outputs": [],
   "source": [
    "import random\n",
    "segreto = random.randint(1, 20)\n",
    "\n",
    "# codice"
   ]
  }
 ],
 "metadata": {
  "kernelspec": {
   "display_name": "Python 3 (ipykernel)",
   "language": "python",
   "name": "python3"
  },
  "language_info": {
   "codemirror_mode": {
    "name": "ipython",
    "version": 3
   },
   "file_extension": ".py",
   "mimetype": "text/x-python",
   "name": "python",
   "nbconvert_exporter": "python",
   "pygments_lexer": "ipython3",
   "version": "3.12.7"
  }
 },
 "nbformat": 4,
 "nbformat_minor": 5
}
