{
 "cells": [
  {
   "cell_type": "markdown",
   "id": "2d3cd40a-865d-42fe-855a-d8f499d9a8b1",
   "metadata": {},
   "source": [
    "# Prima prova pratica (simulazione)"
   ]
  },
  {
   "cell_type": "markdown",
   "id": "cadb35ee-8824-4ac8-ba94-34f65b587342",
   "metadata": {},
   "source": [
    "## Esercizio 1\n",
    "\n",
    "Scrivere un programma che chiede all'utente in input un numero intero e una parola. Se il numero è uguale alla lunghezza della parola, deve stampare \"Bravo!\", altrimenti deve scrivere se il numero inserito è più grande o più piccolo della lunghezza della parola."
   ]
  },
  {
   "cell_type": "code",
   "execution_count": 6,
   "id": "daf4ad42-361d-4ab3-9253-d84ed69bdd40",
   "metadata": {},
   "outputs": [
    {
     "data": {
      "text/plain": [
       "3"
      ]
     },
     "execution_count": 6,
     "metadata": {},
     "output_type": "execute_result"
    }
   ],
   "source": [
    "# Hint: la lunghezza di una parola si trova con len (parola)\n",
    "\n",
    "parola = \"abc\"\n",
    "len(parola)"
   ]
  },
  {
   "cell_type": "code",
   "execution_count": 3,
   "id": "594b522d-0bd3-4f7d-8510-c779a4a37d73",
   "metadata": {},
   "outputs": [],
   "source": [
    "# codice"
   ]
  },
  {
   "cell_type": "markdown",
   "id": "04e37f59-ba16-4835-a255-206b61541108",
   "metadata": {},
   "source": [
    "## Esercizio 2\n",
    "\n",
    "Scrivere un programma che inserisce in una lista (inizialmente vuota) delle parole che l'utente fornirà in input. Quando arriva alla parola \"STOP\", il programma deve stampare \"Mi hai detto STOP\" e la lista riempita fino a quel punto.\n",
    "\n",
    "Non dovete stampare la lista a ogni inserimento di una nuova parola, ma solo alla fine."
   ]
  },
  {
   "cell_type": "code",
   "execution_count": 17,
   "id": "9f6d6ddc-3c2c-4d7b-b5e5-04790d22c60b",
   "metadata": {},
   "outputs": [
    {
     "name": "stdout",
     "output_type": "stream",
     "text": [
      "0\n",
      "1\n",
      "2\n",
      "3\n",
      "4\n",
      "x è 4!\n"
     ]
    }
   ],
   "source": [
    "# Hint: ciclo che gira all'infinito e si ferma quando x è 4\n",
    "\n",
    "x = 0\n",
    "while True:\n",
    "    print(x)\n",
    "    if x==4:\n",
    "        print(\"x è 4!\")\n",
    "        break\n",
    "    x+=1"
   ]
  },
  {
   "cell_type": "code",
   "execution_count": 28,
   "id": "756c18b9-bbf5-4748-ade5-142dfe544766",
   "metadata": {},
   "outputs": [],
   "source": [
    "# codice"
   ]
  },
  {
   "cell_type": "markdown",
   "id": "618c4b3a-36ac-4fb7-b31b-14783f5632b7",
   "metadata": {},
   "source": [
    "# Esercizio 3\n",
    "\n",
    "Scrivere un programma che, dopo aver preso in input un numero intero, stampa se il numero è pari o dispari."
   ]
  },
  {
   "cell_type": "code",
   "execution_count": 22,
   "id": "697668b5-d7ee-41ef-ba57-7bca85633b71",
   "metadata": {},
   "outputs": [
    {
     "name": "stdout",
     "output_type": "stream",
     "text": [
      "Il resto della divisione di 5 per 4 è 1.\n"
     ]
    }
   ],
   "source": [
    "# Hint: usare il resto della divisione per un certo numero...\n",
    "\n",
    "# Il resto della divisione di un numero X per un altro numero Y si ottiene con:\n",
    "\n",
    "x = 5\n",
    "y = 4\n",
    "resto = x % y\n",
    "\n",
    "print(f\"Il resto della divisione di {x} per {y} è {resto}.\")"
   ]
  },
  {
   "cell_type": "code",
   "execution_count": 24,
   "id": "978f5a5e-3894-4ac6-8dee-42f18aa4cc9c",
   "metadata": {},
   "outputs": [],
   "source": [
    "# codice"
   ]
  }
 ],
 "metadata": {
  "kernelspec": {
   "display_name": "Python 3 (ipykernel)",
   "language": "python",
   "name": "python3"
  },
  "language_info": {
   "codemirror_mode": {
    "name": "ipython",
    "version": 3
   },
   "file_extension": ".py",
   "mimetype": "text/x-python",
   "name": "python",
   "nbconvert_exporter": "python",
   "pygments_lexer": "ipython3",
   "version": "3.12.4"
  }
 },
 "nbformat": 4,
 "nbformat_minor": 5
}
