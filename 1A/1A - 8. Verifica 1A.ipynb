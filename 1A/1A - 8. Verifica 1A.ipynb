{
 "cells": [
  {
   "cell_type": "markdown",
   "id": "0cd12e75-59cd-4f2f-ab0a-abf17ee21019",
   "metadata": {},
   "source": [
    "# Verifica"
   ]
  },
  {
   "cell_type": "markdown",
   "id": "ae34f977-7f70-47b2-ab6e-f80b77568e98",
   "metadata": {},
   "source": [
    "## Esercizio 1\n",
    "\n",
    "Scrivi un programma che all'inizio prende un numero in input, poi aggiunge a una lista (inizialmente vuota) parole prese in input finché non inseriamo una parola che ha la lunghezza uguale al numero preso all'inizio.\n",
    "\n",
    "Per esempio: numero = 4 --> ['papera', 'gatto', 'leone', 'cane'] e il ciclo qui si ferma perché 'cane' ha lunghezza 4."
   ]
  },
  {
   "cell_type": "code",
   "execution_count": 2,
   "id": "f4c997b2-77e6-4d7d-8b2d-49816f9dce41",
   "metadata": {},
   "outputs": [],
   "source": [
    "# Hint: definire il ciclo while con while True\n",
    "\n",
    "while True:\n",
    "    # qui scrivere qualcosa\n",
    "    break"
   ]
  },
  {
   "cell_type": "code",
   "execution_count": 3,
   "id": "5e2a37e4-e15f-4b0c-a664-8f1383b887a7",
   "metadata": {},
   "outputs": [],
   "source": [
    "# Codice"
   ]
  },
  {
   "cell_type": "markdown",
   "id": "8c98d49a-8a58-4042-9067-0c3c41d8a0b9",
   "metadata": {},
   "source": [
    "## Esercizio 2\n",
    "\n",
    "Scrivi un programma che prende due numeri in input e determina se il primo numero è maggiore, uguale o minore del secondo. "
   ]
  },
  {
   "cell_type": "code",
   "execution_count": 4,
   "id": "35f3b416-7005-44e4-a053-16bc453922ad",
   "metadata": {},
   "outputs": [],
   "source": [
    "# Codice"
   ]
  },
  {
   "cell_type": "markdown",
   "id": "1394db05-89c5-483d-a076-85218b861349",
   "metadata": {},
   "source": [
    "## Esercizio 3"
   ]
  },
  {
   "cell_type": "markdown",
   "id": "2c4776fa-e8a0-4fc3-9216-e305736a6452",
   "metadata": {},
   "source": [
    "Data la lista PAROLE definita sotto, scrivi un programma che aggiunge a un'altra lista (inizialmente vuota) solo le parole con lunghezza almeno 5. Infine stampare la lista."
   ]
  },
  {
   "cell_type": "code",
   "execution_count": 1,
   "id": "cd8e5792-4709-49ec-906a-3d4aa209ffbe",
   "metadata": {},
   "outputs": [],
   "source": [
    "PAROLE = [\"papera\", \"gatto\", \"cane\", \"cat\", \"dog\", \"elefante\", \"elicottero\"]"
   ]
  },
  {
   "cell_type": "code",
   "execution_count": 13,
   "id": "60970ec4-d794-4d59-b013-be52a2dd238b",
   "metadata": {},
   "outputs": [],
   "source": [
    "# Codice"
   ]
  }
 ],
 "metadata": {
  "kernelspec": {
   "display_name": "Python 3 (ipykernel)",
   "language": "python",
   "name": "python3"
  },
  "language_info": {
   "codemirror_mode": {
    "name": "ipython",
    "version": 3
   },
   "file_extension": ".py",
   "mimetype": "text/x-python",
   "name": "python",
   "nbconvert_exporter": "python",
   "pygments_lexer": "ipython3",
   "version": "3.12.7"
  }
 },
 "nbformat": 4,
 "nbformat_minor": 5
}
