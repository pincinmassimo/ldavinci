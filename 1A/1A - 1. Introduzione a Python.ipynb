{
 "cells": [
  {
   "cell_type": "markdown",
   "id": "c8930935-ab92-485e-9450-ef802f2a1669",
   "metadata": {},
   "source": [
    "# Introduzione a Python"
   ]
  },
  {
   "cell_type": "markdown",
   "id": "6354f57d-8eca-40e1-8360-f4d8a5d1511d",
   "metadata": {},
   "source": [
    "## Primo programma: Hello, World!"
   ]
  },
  {
   "cell_type": "code",
   "execution_count": 3,
   "id": "9ba90d54-573a-4a37-b34f-46d3c9b64306",
   "metadata": {},
   "outputs": [
    {
     "name": "stdout",
     "output_type": "stream",
     "text": [
      "Hello, World!\n"
     ]
    }
   ],
   "source": [
    "print(\"Hello, World!\")"
   ]
  },
  {
   "cell_type": "markdown",
   "id": "54d315a8-d15a-4c5e-b079-37f87f10ca18",
   "metadata": {},
   "source": [
    "**print()** è una funzione che stampa quello che gli mettiamo tra parentesi.\n",
    "\n",
    "Se tra parentesi c'è un numero o una variabile, stampa il valore. Se è un testo (stringa) dobbiamo **mettere le virgolette**."
   ]
  },
  {
   "cell_type": "code",
   "execution_count": 15,
   "id": "59d851aa-38a0-42b4-981e-f820678e1981",
   "metadata": {},
   "outputs": [
    {
     "name": "stdout",
     "output_type": "stream",
     "text": [
      "4\n"
     ]
    }
   ],
   "source": [
    "print(4)"
   ]
  },
  {
   "cell_type": "code",
   "execution_count": 19,
   "id": "9a7fb1b4-f8ba-41f7-9b74-757cc41d8fed",
   "metadata": {},
   "outputs": [
    {
     "ename": "SyntaxError",
     "evalue": "invalid syntax. Perhaps you forgot a comma? (2076824921.py, line 3)",
     "output_type": "error",
     "traceback": [
      "\u001b[1;36m  Cell \u001b[1;32mIn[19], line 3\u001b[1;36m\u001b[0m\n\u001b[1;33m    print(Hello World!)\u001b[0m\n\u001b[1;37m          ^\u001b[0m\n\u001b[1;31mSyntaxError\u001b[0m\u001b[1;31m:\u001b[0m invalid syntax. Perhaps you forgot a comma?\n"
     ]
    }
   ],
   "source": [
    "# Se non mettiamo le virgolette, cosa succede?\n",
    "\n",
    "print(Hello World!)"
   ]
  },
  {
   "cell_type": "markdown",
   "id": "da897626-dfa3-4ce6-93d4-178720bfa7ca",
   "metadata": {},
   "source": [
    "### Esercizio\n",
    "\n",
    "Stampa il tuo nome e cognome con la funzione print()."
   ]
  },
  {
   "cell_type": "code",
   "execution_count": 9,
   "id": "73844c18-237b-4baf-8027-83da793d4202",
   "metadata": {},
   "outputs": [],
   "source": [
    "# codice"
   ]
  },
  {
   "cell_type": "markdown",
   "id": "9c5826d9-9878-43c3-95d9-3fca04027a20",
   "metadata": {},
   "source": [
    "## Variabili\n",
    "\n",
    "In Python, le variabili si creano con **=**. Per esempio, **x = 5** significa che il valore della variabile x sarà 5."
   ]
  },
  {
   "cell_type": "code",
   "execution_count": 34,
   "id": "e356c20e-789f-458e-8a95-053ea1f0e2dc",
   "metadata": {},
   "outputs": [],
   "source": [
    "x = 5+3"
   ]
  },
  {
   "cell_type": "code",
   "execution_count": 36,
   "id": "d979e4f8-f6a6-43dc-b670-bf7080f8e38d",
   "metadata": {},
   "outputs": [
    {
     "name": "stdout",
     "output_type": "stream",
     "text": [
      "8\n"
     ]
    }
   ],
   "source": [
    "print(x)"
   ]
  },
  {
   "cell_type": "code",
   "execution_count": 30,
   "id": "bb078956-d8aa-4c85-a8be-64c37726e985",
   "metadata": {},
   "outputs": [],
   "source": [
    "y = \"Mario\""
   ]
  },
  {
   "cell_type": "code",
   "execution_count": 32,
   "id": "cf54d91f-a2ec-4f98-b5f8-3b68b3314611",
   "metadata": {},
   "outputs": [
    {
     "name": "stdout",
     "output_type": "stream",
     "text": [
      "Mario\n"
     ]
    }
   ],
   "source": [
    "print(y)"
   ]
  },
  {
   "cell_type": "markdown",
   "id": "3b24104c-1249-428b-9e76-42e137b5e053",
   "metadata": {},
   "source": [
    "## Formattazione di print()\n",
    "\n",
    "Con la funzione print() possiamo stampare valori di variabili, ma anche del testo allo stesso tempo. Per fare questo dobbiamo\n",
    "- scrivere **f** prima delle virgolette\n",
    "- mettere la variabile nelle parentesi graffe {} --> ALTGR+SHIFT+ŠĐ sulla tastiera italiana\n",
    "\n",
    "\n",
    "Esempio:"
   ]
  },
  {
   "cell_type": "code",
   "execution_count": 41,
   "id": "ccc443cf-b5b6-4e3f-af21-0bf199395761",
   "metadata": {},
   "outputs": [
    {
     "name": "stdout",
     "output_type": "stream",
     "text": [
      "Mi chiamo Carlo e ho 71 anni.\n"
     ]
    }
   ],
   "source": [
    "nome = \"Carlo\"\n",
    "anni = 71\n",
    "\n",
    "print(f\"Mi chiamo {nome} e ho {anni} anni.\")"
   ]
  },
  {
   "cell_type": "markdown",
   "id": "cd410c5e-5596-4947-9eab-8d9ccd4fea6c",
   "metadata": {},
   "source": [
    "### Esercizio\n",
    "\n",
    "Creare tre variabili che descrivono una persona: una deve contenere il nome, una l'anno di nascita e la terza la città dove vive. Poi stampare le informazioni (per esempio: Mi chiamo __, vivo a __ e ...)"
   ]
  },
  {
   "cell_type": "code",
   "execution_count": 56,
   "id": "18eab4c6-9dab-4217-bbc0-f0b870a95050",
   "metadata": {},
   "outputs": [],
   "source": [
    "# codice"
   ]
  },
  {
   "cell_type": "markdown",
   "id": "0c6fb897-287e-40e7-a9eb-0c32f297fb6c",
   "metadata": {},
   "source": [
    "## La funzione input()\n",
    "\n",
    "Quando assegniamo un valore a una variabile, possiamo anche dire a Python di chiedere all'utente quale valore mettere. Questo si fa con la funzione **input()**.\n",
    "\n",
    "Dentro a **input()** ci deve essere la domanda da fare all'utente, per esempio **input(\"Inserisci il nome: \")**."
   ]
  },
  {
   "cell_type": "code",
   "execution_count": 53,
   "id": "a65efcee-8ce7-4eba-8da4-feb5201ee4c7",
   "metadata": {},
   "outputs": [
    {
     "name": "stdin",
     "output_type": "stream",
     "text": [
      "Inserisci il nome:  abc\n"
     ]
    },
    {
     "name": "stdout",
     "output_type": "stream",
     "text": [
      "Il nome inserito è: abc\n"
     ]
    }
   ],
   "source": [
    "nome = input(\"Inserisci il nome: \")\n",
    "\n",
    "print(f\"Il nome inserito è: {nome}\")"
   ]
  },
  {
   "cell_type": "markdown",
   "id": "52e56ec6-eb4d-4d47-9388-55c85f47f865",
   "metadata": {},
   "source": [
    "### Esercizio\n",
    "\n",
    "Ripetere l'esercizio precedente, ma questa volta invece di inserire direttamente il nome chiedere l'input all'utente."
   ]
  },
  {
   "cell_type": "code",
   "execution_count": 58,
   "id": "58c88cf0-40e4-48c7-bda7-de8d04faeba8",
   "metadata": {},
   "outputs": [],
   "source": [
    "# codice"
   ]
  }
 ],
 "metadata": {
  "kernelspec": {
   "display_name": "Python 3 (ipykernel)",
   "language": "python",
   "name": "python3"
  },
  "language_info": {
   "codemirror_mode": {
    "name": "ipython",
    "version": 3
   },
   "file_extension": ".py",
   "mimetype": "text/x-python",
   "name": "python",
   "nbconvert_exporter": "python",
   "pygments_lexer": "ipython3",
   "version": "3.12.4"
  }
 },
 "nbformat": 4,
 "nbformat_minor": 5
}
