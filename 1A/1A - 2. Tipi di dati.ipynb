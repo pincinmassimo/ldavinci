{
 "cells": [
  {
   "cell_type": "markdown",
   "id": "1b3c8693-6c58-47dd-b9fb-ec6b6caf6851",
   "metadata": {},
   "source": [
    "# Tipi di dati in Python\n",
    "\n",
    "In Python ci sono vari tipi di dati, tra cui string (testo), int (numeri interi), float (numeri razionali), boolean (vero/falso)."
   ]
  },
  {
   "cell_type": "markdown",
   "id": "17f76e5b-5759-4a63-a97c-8d038195075a",
   "metadata": {},
   "source": [
    "## Come sapere quale tipo di dato contiene una variabile?\n",
    "\n",
    "Si usa la funzione **type()**."
   ]
  },
  {
   "cell_type": "code",
   "execution_count": 6,
   "id": "465127aa-652e-42a0-91c1-812ecf9ddb5b",
   "metadata": {},
   "outputs": [
    {
     "data": {
      "text/plain": [
       "str"
      ]
     },
     "execution_count": 6,
     "metadata": {},
     "output_type": "execute_result"
    }
   ],
   "source": [
    "x = \"abc\"\n",
    "type(x)"
   ]
  },
  {
   "cell_type": "code",
   "execution_count": 9,
   "id": "acfff52b-9170-4ab8-ac67-7d90a66af7a3",
   "metadata": {},
   "outputs": [
    {
     "data": {
      "text/plain": [
       "int"
      ]
     },
     "execution_count": 9,
     "metadata": {},
     "output_type": "execute_result"
    }
   ],
   "source": [
    "y = 35\n",
    "type(y)"
   ]
  },
  {
   "cell_type": "code",
   "execution_count": 11,
   "id": "0ee81c0f-64b9-476c-b012-2f8c2239fc7a",
   "metadata": {},
   "outputs": [
    {
     "data": {
      "text/plain": [
       "float"
      ]
     },
     "execution_count": 11,
     "metadata": {},
     "output_type": "execute_result"
    }
   ],
   "source": [
    "z = 0.34\n",
    "type(z)"
   ]
  },
  {
   "cell_type": "code",
   "execution_count": 14,
   "id": "91bbe9a8-3516-47e8-a868-58e47825c7fa",
   "metadata": {},
   "outputs": [
    {
     "data": {
      "text/plain": [
       "bool"
      ]
     },
     "execution_count": 14,
     "metadata": {},
     "output_type": "execute_result"
    }
   ],
   "source": [
    "a = True\n",
    "type(a)"
   ]
  },
  {
   "cell_type": "markdown",
   "id": "6ec7e269-bdea-4914-9777-02cac385fe43",
   "metadata": {},
   "source": [
    "Vediamo più in dettaglio le stringhe e i numeri interi."
   ]
  },
  {
   "cell_type": "markdown",
   "id": "b56598a2-ff2f-4dcf-80ba-24eda6162475",
   "metadata": {},
   "source": [
    "## String"
   ]
  },
  {
   "cell_type": "markdown",
   "id": "b84db163-ee36-48d1-97a6-3bb6ea4f69d9",
   "metadata": {},
   "source": [
    "### Concatenazione"
   ]
  },
  {
   "cell_type": "markdown",
   "id": "4ca71aef-c70d-4bc1-a0b3-7fa9c1764cac",
   "metadata": {},
   "source": [
    "Due stringhe si possono concatenare con +. Esempio:"
   ]
  },
  {
   "cell_type": "code",
   "execution_count": 20,
   "id": "25c22f72-7495-4709-af75-912c9187513d",
   "metadata": {},
   "outputs": [
    {
     "name": "stdout",
     "output_type": "stream",
     "text": [
      "HelloWorld\n"
     ]
    }
   ],
   "source": [
    "x = \"Hello\"\n",
    "y = \"World\"\n",
    "\n",
    "print(x+y)"
   ]
  },
  {
   "cell_type": "markdown",
   "id": "ea814188-e1b6-4391-bdc0-e52c96296bc4",
   "metadata": {},
   "source": [
    "### Indicizzazione"
   ]
  },
  {
   "cell_type": "markdown",
   "id": "563d3ad0-f68d-4672-9d4e-ebb97d689ee8",
   "metadata": {},
   "source": [
    "Possiamo prendere l'**n**-esimo elemento di una stringa **a** usando le parentesi quadre: **a[n]**.\n",
    "\n",
    "Le parentesi quadre si scrivono con ALTGR+ŠĐ."
   ]
  },
  {
   "cell_type": "code",
   "execution_count": 25,
   "id": "2bc3e556-1ef0-43e3-9eaf-e065a4b3ae77",
   "metadata": {},
   "outputs": [
    {
     "data": {
      "text/plain": [
       "'B'"
      ]
     },
     "execution_count": 25,
     "metadata": {},
     "output_type": "execute_result"
    }
   ],
   "source": [
    "x = \"ABCDE\"\n",
    "x[1]"
   ]
  },
  {
   "cell_type": "markdown",
   "id": "6bb7e0a8-eba0-4772-b252-f2a4e807dbc3",
   "metadata": {},
   "source": [
    "Perché non A?"
   ]
  },
  {
   "cell_type": "markdown",
   "id": "89decfe4-62de-4091-b185-5d30dc657a03",
   "metadata": {},
   "source": [
    "### Esercizio\n",
    "\n",
    "1. Inizializzare due variabili, **a** e **b**, il cui valore è dato in input dall'utente.\n",
    "2. Creare una terza variabile **c** che sarà la **concatenazione** di **a** e **b**.\n",
    "3. Stampare con print() i tre valori, nel formato: \"a è ___, b è ____, c è ____\".\n",
    "4. Inizializzare le variabili **i** e **j**. Possono contenere qualsiasi valore intero da 0 a 5.\n",
    "5. Stampare con print: \"Il valore numero 'i' della stringa concatenata è ...\""
   ]
  },
  {
   "cell_type": "code",
   "execution_count": 80,
   "id": "61c5a41a-ca12-41e3-9ab4-faa6d7fc0087",
   "metadata": {},
   "outputs": [],
   "source": [
    "# codice"
   ]
  },
  {
   "cell_type": "markdown",
   "id": "a11d8501-702f-4466-a4dd-ea2bc0dce5af",
   "metadata": {},
   "source": [
    "## Integer"
   ]
  },
  {
   "cell_type": "markdown",
   "id": "f914bac9-0485-47d7-955b-068d1a822874",
   "metadata": {},
   "source": [
    "Possiamo sommare, sottrarre, moltiplicare e dividere numeri interi."
   ]
  },
  {
   "cell_type": "code",
   "execution_count": 34,
   "id": "f6ddf016-6a57-41d7-9b8c-6fa7d68a2bc6",
   "metadata": {},
   "outputs": [],
   "source": [
    "x = 10\n",
    "y = 3"
   ]
  },
  {
   "cell_type": "code",
   "execution_count": 36,
   "id": "0650a0df-25bc-40d3-9fe9-6c31ee023d54",
   "metadata": {},
   "outputs": [
    {
     "data": {
      "text/plain": [
       "13"
      ]
     },
     "execution_count": 36,
     "metadata": {},
     "output_type": "execute_result"
    }
   ],
   "source": [
    "x+y"
   ]
  },
  {
   "cell_type": "code",
   "execution_count": 40,
   "id": "3326f556-e359-4ed6-ae02-36c15a31551d",
   "metadata": {},
   "outputs": [
    {
     "data": {
      "text/plain": [
       "30"
      ]
     },
     "execution_count": 40,
     "metadata": {},
     "output_type": "execute_result"
    }
   ],
   "source": [
    "x*y"
   ]
  },
  {
   "cell_type": "markdown",
   "id": "c20625fd-2115-45f3-8818-93422b2234e5",
   "metadata": {},
   "source": [
    "Possiamo anche calcolare il **resto della divisione** di un numero per un altro con **x%y**."
   ]
  },
  {
   "cell_type": "code",
   "execution_count": 52,
   "id": "4fe6bde5-e104-43f9-89c0-b1b5b09e690d",
   "metadata": {},
   "outputs": [
    {
     "data": {
      "text/plain": [
       "1"
      ]
     },
     "execution_count": 52,
     "metadata": {},
     "output_type": "execute_result"
    }
   ],
   "source": [
    "x%y # Il resto della divisione di 10 per 3 è..."
   ]
  },
  {
   "cell_type": "markdown",
   "id": "ca89b014-1247-4290-8cd3-1574b1fb7798",
   "metadata": {},
   "source": [
    "E anche calcolare $x^y$, con x**y."
   ]
  },
  {
   "cell_type": "code",
   "execution_count": 61,
   "id": "466b3acf-a696-4376-b6ea-cdbc879627f7",
   "metadata": {},
   "outputs": [
    {
     "data": {
      "text/plain": [
       "1000"
      ]
     },
     "execution_count": 61,
     "metadata": {},
     "output_type": "execute_result"
    }
   ],
   "source": [
    "x**y # 10 alla 3 fa..."
   ]
  },
  {
   "cell_type": "markdown",
   "id": "1a2365d3-90de-45fd-861d-1d891ff676e9",
   "metadata": {},
   "source": [
    "### Interazione di input() con numeri"
   ]
  },
  {
   "cell_type": "code",
   "execution_count": 64,
   "id": "e95c3e12-6f58-4d69-baca-3f789ee8707c",
   "metadata": {},
   "outputs": [
    {
     "name": "stdin",
     "output_type": "stream",
     "text": [
      "Scrivi il primo numero:  1\n",
      "Scrivi il secondo numero:  2\n"
     ]
    }
   ],
   "source": [
    "x = input(\"Scrivi il primo numero: \")\n",
    "y = input(\"Scrivi il secondo numero: \")"
   ]
  },
  {
   "cell_type": "code",
   "execution_count": 66,
   "id": "92d39403-85be-4cee-9304-19d072e8bbda",
   "metadata": {},
   "outputs": [
    {
     "name": "stdout",
     "output_type": "stream",
     "text": [
      "x è 1, y è 2\n"
     ]
    }
   ],
   "source": [
    "print(f\"x è {x}, y è {y}\")"
   ]
  },
  {
   "cell_type": "markdown",
   "id": "e11f732e-6c7e-4afb-b2a3-c6c3e3d62726",
   "metadata": {},
   "source": [
    "Tutto funziona bene, ma se andiamo a fare x+y..."
   ]
  },
  {
   "cell_type": "code",
   "execution_count": 72,
   "id": "34f3d787-25c9-4cdc-9ff7-ab4c358a4fca",
   "metadata": {},
   "outputs": [
    {
     "data": {
      "text/plain": [
       "'12'"
      ]
     },
     "execution_count": 72,
     "metadata": {},
     "output_type": "execute_result"
    }
   ],
   "source": [
    "x+y # 1+2 fa..."
   ]
  },
  {
   "cell_type": "markdown",
   "id": "41167e9e-c59a-4363-a086-eeae0d768c48",
   "metadata": {},
   "source": [
    "Perché?"
   ]
  },
  {
   "cell_type": "markdown",
   "id": "4c54be08-0c23-4ae9-b14d-0426750b2d27",
   "metadata": {},
   "source": [
    "### Esercizio"
   ]
  },
  {
   "cell_type": "markdown",
   "id": "f51d4181-8d75-4a88-973f-a96008b59cbf",
   "metadata": {},
   "source": [
    "1. Inizializzare due variabili: **nome** e **anno**, che rappresentano il nome e l'anno di nascita di una persona. I valori delle variabili devono essere presi con **input()**.\n",
    "2. Calcolare l'età della persona assumendo che sia nata il 1 gennaio. (Come si fa?)\n",
    "3. Stampare le informazioni sulla persona usando print()."
   ]
  },
  {
   "cell_type": "code",
   "execution_count": 78,
   "id": "887f54c1-895f-4838-b2fb-07b32b67372d",
   "metadata": {},
   "outputs": [],
   "source": [
    "# codice"
   ]
  }
 ],
 "metadata": {
  "kernelspec": {
   "display_name": "Python 3 (ipykernel)",
   "language": "python",
   "name": "python3"
  },
  "language_info": {
   "codemirror_mode": {
    "name": "ipython",
    "version": 3
   },
   "file_extension": ".py",
   "mimetype": "text/x-python",
   "name": "python",
   "nbconvert_exporter": "python",
   "pygments_lexer": "ipython3",
   "version": "3.12.4"
  }
 },
 "nbformat": 4,
 "nbformat_minor": 5
}
