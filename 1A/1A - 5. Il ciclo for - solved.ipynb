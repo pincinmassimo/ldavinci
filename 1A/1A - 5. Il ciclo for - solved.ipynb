{
 "cells": [
  {
   "cell_type": "markdown",
   "id": "a4becc95-2c6d-45a4-913f-dc44f16d2e58",
   "metadata": {},
   "source": [
    "# Il ciclo for\n",
    "\n",
    "I cicli sono usati per **iterare** su una lista o una stringa (o altro), cioè per passare elemento-per-elemento."
   ]
  },
  {
   "cell_type": "markdown",
   "id": "77b62f44-1aa4-4884-b94f-8d6c46dcbe02",
   "metadata": {},
   "source": [
    "### Esempio 1: iterazione su una lista"
   ]
  },
  {
   "cell_type": "code",
   "execution_count": 1,
   "id": "1f406a71-27b0-496c-aaa5-b3729a17f7a5",
   "metadata": {},
   "outputs": [
    {
     "name": "stdout",
     "output_type": "stream",
     "text": [
      "ananas\n",
      "banana\n",
      "ciliegia\n"
     ]
    }
   ],
   "source": [
    "frutta = [\"ananas\", \"banana\", \"ciliegia\"]\n",
    "\n",
    "for i in frutta:\n",
    "    print(i)"
   ]
  },
  {
   "cell_type": "markdown",
   "id": "f4310934-b1ae-489c-a6cd-4a061c1c3e08",
   "metadata": {},
   "source": [
    "### Esempio 2: iterazione su una stringa"
   ]
  },
  {
   "cell_type": "code",
   "execution_count": 2,
   "id": "c6d7c994-2a4e-4f26-9cb0-7ec63dd72c21",
   "metadata": {},
   "outputs": [
    {
     "name": "stdout",
     "output_type": "stream",
     "text": [
      "I\n",
      "l\n",
      " \n",
      "m\n",
      "a\n",
      "r\n",
      "e\n",
      " \n",
      "è\n",
      " \n",
      "b\n",
      "l\n",
      "u\n",
      ".\n"
     ]
    }
   ],
   "source": [
    "frase = \"Il mare è blu.\"\n",
    "\n",
    "for i in frase:\n",
    "    print(i)"
   ]
  },
  {
   "cell_type": "markdown",
   "id": "92750584-b7f8-494a-a1b2-a7c18cafd1d5",
   "metadata": {},
   "source": [
    "### Esempio 3: la funzione range()"
   ]
  },
  {
   "cell_type": "code",
   "execution_count": 5,
   "id": "f99b9dfd-3fb6-4cb2-bba3-ca4dceb868d0",
   "metadata": {},
   "outputs": [
    {
     "name": "stdout",
     "output_type": "stream",
     "text": [
      "2\n",
      "3\n",
      "4\n"
     ]
    }
   ],
   "source": [
    "for i in range(2, 5):\n",
    "    print(i)"
   ]
  },
  {
   "cell_type": "code",
   "execution_count": 6,
   "id": "ebe8111d-754a-4090-988b-1e4623be71b2",
   "metadata": {},
   "outputs": [
    {
     "name": "stdout",
     "output_type": "stream",
     "text": [
      "0\n",
      "1\n",
      "2\n",
      "3\n",
      "4\n"
     ]
    }
   ],
   "source": [
    "for i in range(5):\n",
    "    print(i)"
   ]
  },
  {
   "cell_type": "markdown",
   "id": "f7b63075-e3a7-4888-940c-8fa81cf08386",
   "metadata": {},
   "source": [
    "### Esercizio 1 - quadrati\n",
    "\n",
    "1. Inizializzare una lista di numeri da 1 a 5.\n",
    "2. Stampare il quadrato di ogni numero della lista. (hint: la potenza si scrive con **)"
   ]
  },
  {
   "cell_type": "code",
   "execution_count": 1,
   "id": "9b52475b-a8a6-496f-9180-817da9268241",
   "metadata": {},
   "outputs": [
    {
     "name": "stdout",
     "output_type": "stream",
     "text": [
      "1\n",
      "4\n",
      "9\n",
      "16\n",
      "25\n"
     ]
    }
   ],
   "source": [
    "numeri = [1, 2, 3, 4, 5]\n",
    "\n",
    "for i in numeri:\n",
    "    print(i**2)"
   ]
  },
  {
   "cell_type": "markdown",
   "id": "2684af6f-bf6a-4055-8b03-cfa29058505d",
   "metadata": {},
   "source": [
    "### Esercizio 2 - controllo della lunghezza\n",
    "\n",
    "1. Inizializzare una lista di almeno 5 parole.\n",
    "2. Stampare *solo* le parole che hanno almeno 4 lettere."
   ]
  },
  {
   "cell_type": "code",
   "execution_count": 2,
   "id": "2e5a2d13-23f0-4911-a0e6-5b7e4efb07e9",
   "metadata": {},
   "outputs": [
    {
     "name": "stdout",
     "output_type": "stream",
     "text": [
      "abcdefgh\n",
      "xyzabc\n",
      "ultima\n"
     ]
    }
   ],
   "source": [
    "parole = [\"a\", \"abcdefgh\", \"xyz\", \"xyzabc\", \"ultima\"]\n",
    "\n",
    "for i in parole:\n",
    "    if len(i) >= 4:\n",
    "        print(i)"
   ]
  },
  {
   "cell_type": "markdown",
   "id": "182de70c-d5bd-42e0-a4bc-54782be1c1c2",
   "metadata": {},
   "source": [
    "## break: interrompere il ciclo"
   ]
  },
  {
   "cell_type": "code",
   "execution_count": 16,
   "id": "c09fb22c-5102-4a25-9708-f1b61e09ca02",
   "metadata": {},
   "outputs": [
    {
     "name": "stdout",
     "output_type": "stream",
     "text": [
      "0\n",
      "1\n",
      "2\n",
      "3\n",
      "4\n"
     ]
    }
   ],
   "source": [
    "# Esempio\n",
    "\n",
    "for i in range(10):\n",
    "    if i == 5:\n",
    "        break\n",
    "    print(i)"
   ]
  },
  {
   "cell_type": "markdown",
   "id": "20257f3d-efd8-4186-a124-848c49836682",
   "metadata": {},
   "source": [
    "## continue"
   ]
  },
  {
   "cell_type": "code",
   "execution_count": 17,
   "id": "0a314bba-df9f-4b79-aef8-1137864cb010",
   "metadata": {},
   "outputs": [
    {
     "name": "stdout",
     "output_type": "stream",
     "text": [
      "0\n",
      "1\n",
      "2\n",
      "3\n",
      "4\n",
      "6\n",
      "7\n",
      "8\n",
      "9\n"
     ]
    }
   ],
   "source": [
    "# Esempio\n",
    "\n",
    "for i in range(10):\n",
    "    if i == 5:\n",
    "        continue\n",
    "    print(i)"
   ]
  },
  {
   "cell_type": "markdown",
   "id": "30ed0491-4659-4003-a58e-392a4abfb7c3",
   "metadata": {},
   "source": [
    "### Esercizio 3\n",
    "\n",
    "Creare una parola e stamparla lettera per lettera. Se incontriamo la lettera **a**, interrompere il ciclo."
   ]
  },
  {
   "cell_type": "code",
   "execution_count": 3,
   "id": "88e242f9-6b41-4a4f-a25f-b460dd8c219d",
   "metadata": {},
   "outputs": [
    {
     "name": "stdout",
     "output_type": "stream",
     "text": [
      "b\n",
      "r\n"
     ]
    }
   ],
   "source": [
    "parola = \"bravo\"\n",
    "\n",
    "for lettera in parola:\n",
    "    if lettera == \"a\":\n",
    "        break\n",
    "    print(lettera)"
   ]
  },
  {
   "cell_type": "markdown",
   "id": "e42787bc-dd44-49e0-8f36-69b0e723a7bc",
   "metadata": {},
   "source": [
    "## Esempio: somma di una lista di numeri\n",
    "\n",
    "Come possiamo sommare una lista di numeri, per esempio [2, 5, 7, 9]?"
   ]
  },
  {
   "cell_type": "code",
   "execution_count": 21,
   "id": "f0970525-6564-4921-96d8-ad66992ae486",
   "metadata": {},
   "outputs": [
    {
     "name": "stdout",
     "output_type": "stream",
     "text": [
      "23\n"
     ]
    }
   ],
   "source": [
    "lista = [2, 5, 7, 9]\n",
    "\n",
    "# All'inizio, la somma è 0:\n",
    "somma = 0\n",
    "\n",
    "# Aumentiamo la somma numero per numero\n",
    "for i in lista:\n",
    "    somma += i\n",
    "    \n",
    "# La somma è...\n",
    "print(somma)"
   ]
  },
  {
   "cell_type": "markdown",
   "id": "730d3030-c43f-47b1-95ea-24f82f49f2d9",
   "metadata": {},
   "source": [
    "### Esercizio 4\n",
    "\n",
    "Inizializzare una lista di numeri e una variabile che conterrà il numero 100. Sottrarre dal numero 100 ogni numero della lista e stampare il risultato."
   ]
  },
  {
   "cell_type": "code",
   "execution_count": 4,
   "id": "566d5966-8f41-4f96-a2c2-40121d826bae",
   "metadata": {},
   "outputs": [
    {
     "name": "stdout",
     "output_type": "stream",
     "text": [
      "77\n"
     ]
    }
   ],
   "source": [
    "lista = [2, 5, 7, 9]\n",
    "\n",
    "variabile = 100\n",
    "\n",
    "for i in lista:\n",
    "    variabile -= i\n",
    "\n",
    "print(variabile)"
   ]
  }
 ],
 "metadata": {
  "kernelspec": {
   "display_name": "Python 3 (ipykernel)",
   "language": "python",
   "name": "python3"
  },
  "language_info": {
   "codemirror_mode": {
    "name": "ipython",
    "version": 3
   },
   "file_extension": ".py",
   "mimetype": "text/x-python",
   "name": "python",
   "nbconvert_exporter": "python",
   "pygments_lexer": "ipython3",
   "version": "3.12.7"
  }
 },
 "nbformat": 4,
 "nbformat_minor": 5
}
