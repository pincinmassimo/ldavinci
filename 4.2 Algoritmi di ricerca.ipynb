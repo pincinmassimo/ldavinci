{
 "cells": [
  {
   "cell_type": "markdown",
   "metadata": {},
   "source": [
    "# Algoritmi di ricerca\n",
    "\n",
    "Vedremo due algoritmi di ricerca e analizzeremo le loro complessità. Supponiamo che gli algoritmi prendano in input una lista di numeri ordinata in modo crescente."
   ]
  },
  {
   "cell_type": "markdown",
   "metadata": {},
   "source": [
    "## Algoritmo 1: ricerca lineare\n",
    "\n",
    "- in una lista di numeri, vai elemento per elemento; se l'elemento è quello che cercavi termina, altrimenti vai avanti\n",
    "- soluzione più semplice possibile\n",
    "- complessità?"
   ]
  },
  {
   "cell_type": "code",
   "execution_count": 3,
   "metadata": {},
   "outputs": [],
   "source": [
    "# Implementa l'algoritmo\n",
    "def linear_search():\n",
    "    pass"
   ]
  },
  {
   "cell_type": "markdown",
   "metadata": {},
   "source": [
    "## Algoritmo 2: ricerca binaria / bisezione\n",
    "\n",
    "- controlla l'elemento in metà, se è quello che cercavi termina, altrimenti ripeti sulla parte sinistra se quello che cerchi è minore di quello che sta in metà, a destra se è maggiore\n",
    "- assunzione importante: la lista deve essere ordinata\n",
    "- complessità?"
   ]
  },
  {
   "cell_type": "code",
   "execution_count": 2,
   "metadata": {},
   "outputs": [],
   "source": [
    "# Implementa l'algoritmo\n",
    "def binary_search():\n",
    "    pass"
   ]
  },
  {
   "cell_type": "markdown",
   "metadata": {},
   "source": [
    "## Testing e analisi della complessità\n",
    "\n",
    "Crea 4 liste che contengono rispettivamente i primi 10 000 000, 50 000 000, 75 000 000 e 100 000 000 numeri naturali. Analizza la complessità di entrambi gli algoritmi come visto nel capitolo scorso."
   ]
  },
  {
   "cell_type": "code",
   "execution_count": null,
   "metadata": {},
   "outputs": [],
   "source": []
  }
 ],
 "metadata": {
  "kernelspec": {
   "display_name": "Python 3",
   "language": "python",
   "name": "python3"
  },
  "language_info": {
   "codemirror_mode": {
    "name": "ipython",
    "version": 3
   },
   "file_extension": ".py",
   "mimetype": "text/x-python",
   "name": "python",
   "nbconvert_exporter": "python",
   "pygments_lexer": "ipython3",
   "version": "3.8.5"
  }
 },
 "nbformat": 4,
 "nbformat_minor": 4
}
