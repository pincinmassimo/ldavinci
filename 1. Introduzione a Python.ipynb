{
 "cells": [
  {
   "cell_type": "markdown",
   "metadata": {},
   "source": [
    "# Introduzione a Python"
   ]
  },
  {
   "cell_type": "markdown",
   "metadata": {},
   "source": [
    "## Funzioni"
   ]
  },
  {
   "cell_type": "markdown",
   "metadata": {},
   "source": [
    "### Introduzione alle funzioni"
   ]
  },
  {
   "cell_type": "code",
   "execution_count": 1,
   "metadata": {},
   "outputs": [],
   "source": [
    "def nome_funzione():\n",
    "    pass"
   ]
  },
  {
   "cell_type": "markdown",
   "metadata": {},
   "source": [
    "Una funzione è un blocco di codice che si può riutilizzare (chiamando la funzione).\n",
    "\n",
    "**Esercizio**: scrivere una funzione chiamata \"function_1\" che stampa \"Hello World!\"."
   ]
  },
  {
   "cell_type": "code",
   "execution_count": 3,
   "metadata": {},
   "outputs": [],
   "source": [
    "def function_1():\n",
    "    # codice\n",
    "    pass"
   ]
  },
  {
   "cell_type": "code",
   "execution_count": 4,
   "metadata": {},
   "outputs": [],
   "source": [
    "function_1()"
   ]
  },
  {
   "cell_type": "markdown",
   "metadata": {},
   "source": [
    "### Parametri di default; f-strings"
   ]
  },
  {
   "cell_type": "markdown",
   "metadata": {},
   "source": [
    "Le funzioni possono prendere parametri (e i parametri possono anche essere predefiniti). Esempio:"
   ]
  },
  {
   "cell_type": "code",
   "execution_count": 5,
   "metadata": {},
   "outputs": [],
   "source": [
    "def esempio_1(x, y, z=5):\n",
    "    print(x+y+z)"
   ]
  },
  {
   "cell_type": "code",
   "execution_count": 6,
   "metadata": {},
   "outputs": [
    {
     "name": "stdout",
     "output_type": "stream",
     "text": [
      "6\n"
     ]
    }
   ],
   "source": [
    "esempio_1(1, 2, 3)"
   ]
  },
  {
   "cell_type": "code",
   "execution_count": 7,
   "metadata": {},
   "outputs": [
    {
     "name": "stdout",
     "output_type": "stream",
     "text": [
      "8\n"
     ]
    }
   ],
   "source": [
    "esempio_1(1, 2)"
   ]
  },
  {
   "cell_type": "markdown",
   "metadata": {},
   "source": [
    "Per stampare il valore di una variabile, il modo più usato è la sintassi f-string (ricordate di includere 'f' all'inizio!)."
   ]
  },
  {
   "cell_type": "code",
   "execution_count": 11,
   "metadata": {},
   "outputs": [
    {
     "name": "stdout",
     "output_type": "stream",
     "text": [
      "Ciao Mondo!\n"
     ]
    }
   ],
   "source": [
    "x = 'Mondo'\n",
    "print(f'Ciao {x}!')"
   ]
  },
  {
   "cell_type": "markdown",
   "metadata": {},
   "source": [
    "**Esercizio**: scrivere una funzione che, dato il nome di una persona, stampa \"Hello {persona}\". Se non specifichiamo il nome della persona, la funzione deve stampare \"Hello Nobody\"."
   ]
  },
  {
   "cell_type": "code",
   "execution_count": 9,
   "metadata": {},
   "outputs": [],
   "source": [
    "# codice"
   ]
  },
  {
   "cell_type": "markdown",
   "metadata": {},
   "source": [
    "### Valori di ritorno; liste"
   ]
  },
  {
   "cell_type": "markdown",
   "metadata": {},
   "source": [
    "Senza specificare il **return**, la funzione esegue le istruzioni, ma non ritorna niente!\n",
    "\n",
    "**Esempio**: scriviamo una funzione **f** che prende in input una parola e ritorna (non stampa) il numero di lettere di una parola. Poi scriviamo un'altra funzione **g** che prende in input una parola e, usando la funzione appena definita, stampa \"long\" se la parola ha più di 7 lettere, \"medium\" se tra 5 e 7, altrimenti stampa \"short\"."
   ]
  },
  {
   "cell_type": "code",
   "execution_count": 16,
   "metadata": {},
   "outputs": [],
   "source": [
    "def f():\n",
    "    pass\n",
    "\n",
    "def g(x):\n",
    "    pass"
   ]
  },
  {
   "cell_type": "code",
   "execution_count": 17,
   "metadata": {},
   "outputs": [
    {
     "name": "stdout",
     "output_type": "stream",
     "text": [
      "La parola parolona è None.\n"
     ]
    }
   ],
   "source": [
    "x = 'parolona'\n",
    "y = 'media'\n",
    "z = 'abc'\n",
    "\n",
    "print(f'La parola {x} è {g(x)}.')"
   ]
  },
  {
   "cell_type": "markdown",
   "metadata": {},
   "source": [
    "Una lista si definisce con le parentesi quadre [ ]. Gli elementi sono separati da virgole."
   ]
  },
  {
   "cell_type": "markdown",
   "metadata": {},
   "source": [
    "**Esercizio**: scrivere una funzione che prende in input una lista di numeri e ritorna il loro massimo - usare la funzione max()."
   ]
  },
  {
   "cell_type": "code",
   "execution_count": 18,
   "metadata": {},
   "outputs": [],
   "source": [
    "# codice"
   ]
  },
  {
   "cell_type": "markdown",
   "metadata": {},
   "source": [
    "### Ciclo for"
   ]
  },
  {
   "cell_type": "markdown",
   "metadata": {},
   "source": [
    "Possiamo ciclare su ogni elemento di una lista usando il ciclo for.\n",
    "\n",
    "**Esempio**: stampa ogni elemento di una lista."
   ]
  },
  {
   "cell_type": "code",
   "execution_count": 21,
   "metadata": {},
   "outputs": [
    {
     "name": "stdout",
     "output_type": "stream",
     "text": [
      "1\n",
      "5\n",
      "a\n",
      "100\n",
      "xyz\n",
      "[2, 5]\n"
     ]
    }
   ],
   "source": [
    "x = [1, 5, \"a\", 100, \"xyz\", [2, 5]]\n",
    "\n",
    "for i in x:\n",
    "    print(i)"
   ]
  },
  {
   "cell_type": "markdown",
   "metadata": {},
   "source": [
    "**Esempio**: stampa i numeri maggiori di 2 e minori di 8."
   ]
  },
  {
   "cell_type": "code",
   "execution_count": 27,
   "metadata": {},
   "outputs": [
    {
     "name": "stdout",
     "output_type": "stream",
     "text": [
      "3\n",
      "4\n",
      "5\n",
      "6\n",
      "7\n"
     ]
    }
   ],
   "source": [
    "for i in range(3, 8):\n",
    "    print(i)"
   ]
  },
  {
   "cell_type": "markdown",
   "metadata": {},
   "source": [
    "**Esercizio**: scrivere una funzione che, data la lista **x**, per ogni elemento della lista stampa 'si' se il numero è maggiore di 50, altrimenti stampa 'no'."
   ]
  },
  {
   "cell_type": "code",
   "execution_count": 28,
   "metadata": {},
   "outputs": [],
   "source": [
    "x = [61, 7, 85, 12904, -2, 0]"
   ]
  },
  {
   "cell_type": "code",
   "execution_count": 29,
   "metadata": {},
   "outputs": [],
   "source": [
    "# codice"
   ]
  },
  {
   "cell_type": "markdown",
   "metadata": {},
   "source": [
    "### Ciclo while; input dell'utente; il metodo append()"
   ]
  },
  {
   "cell_type": "markdown",
   "metadata": {},
   "source": [
    "L'input dell'utente si chiama con la funzione **input** e di solito viene salvata in una variabile (useremo **user_input**)."
   ]
  },
  {
   "cell_type": "code",
   "execution_count": 31,
   "metadata": {},
   "outputs": [
    {
     "name": "stdout",
     "output_type": "stream",
     "text": [
      "x all'inizio è: a\n",
      "Inserisci un nome: abc\n",
      "x adesso è: abc\n"
     ]
    }
   ],
   "source": [
    "x = \"a\"\n",
    "print(f\"x all'inizio è: {x}\")\n",
    "\n",
    "x = input(\"Inserisci un nome: \")\n",
    "print(f\"x adesso è: {x}\")"
   ]
  },
  {
   "cell_type": "markdown",
   "metadata": {},
   "source": [
    "Il ciclo **while** è simile al ciclo for, ma esegue finché non viene soddisfatta una determinata condizione. Di solito si accoppia con un contatore.\n",
    "\n",
    "**IMPORTANTE**: non dimenticare di aumentare il contatore, altrimenti non si ferma mai!"
   ]
  },
  {
   "cell_type": "code",
   "execution_count": 33,
   "metadata": {},
   "outputs": [
    {
     "name": "stdout",
     "output_type": "stream",
     "text": [
      "0\n",
      "1\n",
      "2\n",
      "3\n",
      "4\n"
     ]
    }
   ],
   "source": [
    "counter = 0\n",
    "\n",
    "while counter < 5:\n",
    "    print(counter)\n",
    "    counter = counter + 1"
   ]
  },
  {
   "cell_type": "markdown",
   "metadata": {},
   "source": [
    "Possiamo appendere (aggiungere) un elemento a una lista usando {lista}.append(qualcosa)."
   ]
  },
  {
   "cell_type": "code",
   "execution_count": 35,
   "metadata": {},
   "outputs": [
    {
     "name": "stdout",
     "output_type": "stream",
     "text": [
      "x adesso è: [1, 2]\n",
      "x adesso è: [1, 2, 3]\n"
     ]
    }
   ],
   "source": [
    "x = [1, 2]\n",
    "\n",
    "print(f\"x adesso è: {x}\")\n",
    "\n",
    "x.append(3)\n",
    "\n",
    "print(f\"x adesso è: {x}\")"
   ]
  },
  {
   "cell_type": "markdown",
   "metadata": {},
   "source": [
    "**Esercizio**: aggiungere elementi presi in input a una lista (inizialmente vuota) finché l'input non sarà \"STOP\"."
   ]
  },
  {
   "cell_type": "code",
   "execution_count": 36,
   "metadata": {},
   "outputs": [],
   "source": [
    "# codice"
   ]
  }
 ],
 "metadata": {
  "kernelspec": {
   "display_name": "Python 3",
   "language": "python",
   "name": "python3"
  },
  "language_info": {
   "codemirror_mode": {
    "name": "ipython",
    "version": 3
   },
   "file_extension": ".py",
   "mimetype": "text/x-python",
   "name": "python",
   "nbconvert_exporter": "python",
   "pygments_lexer": "ipython3",
   "version": "3.8.5"
  }
 },
 "nbformat": 4,
 "nbformat_minor": 4
}
