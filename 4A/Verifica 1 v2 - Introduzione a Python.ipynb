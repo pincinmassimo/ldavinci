{
 "cells": [
  {
   "cell_type": "markdown",
   "metadata": {},
   "source": [
    "# Esercizio 1: palindromi\n",
    "\n",
    "Scrivere una funzione che prende una parola in input e controlla se la parola è un palindromo (es. abcba).\n",
    "\n",
    "Verificare la soluzione sulle parole:\n",
    "- \"abccba\" --> si\n",
    "- \"aerea\" --> si\n",
    "- \"polpo\" --> no"
   ]
  },
  {
   "cell_type": "code",
   "execution_count": 2,
   "metadata": {},
   "outputs": [
    {
     "data": {
      "text/plain": [
       "'cba'"
      ]
     },
     "execution_count": 2,
     "metadata": {},
     "output_type": "execute_result"
    }
   ],
   "source": [
    "# Hint: per roversciare una parola si usa\n",
    "\n",
    "parola = \"abc\"\n",
    "parola_rovesciata = parola[::-1]\n",
    "parola_rovesciata"
   ]
  },
  {
   "cell_type": "code",
   "execution_count": 5,
   "metadata": {},
   "outputs": [],
   "source": [
    "# codice"
   ]
  },
  {
   "cell_type": "code",
   "execution_count": 6,
   "metadata": {},
   "outputs": [],
   "source": [
    "# verifica"
   ]
  },
  {
   "cell_type": "markdown",
   "metadata": {},
   "source": [
    "# Esercizio 2: next evens\n",
    "\n",
    "Scrivere una funzione che prende un numero naturale **n** in input e stampa i prossimi 3 numeri pari. \n",
    "\n",
    "Hint: 2 casi da gestire - il numero in input è o pari o dispari\n",
    "\n",
    "Verificare la soluzione sui numeri:\n",
    "- 2 --> 4, 6, 8\n",
    "- 3 --> 4, 6, 8\n",
    "- 107 --> 108, 110, 112"
   ]
  },
  {
   "cell_type": "code",
   "execution_count": 1,
   "metadata": {},
   "outputs": [],
   "source": [
    "# codice"
   ]
  },
  {
   "cell_type": "code",
   "execution_count": 2,
   "metadata": {},
   "outputs": [],
   "source": [
    "# verifica"
   ]
  }
 ],
 "metadata": {
  "kernelspec": {
   "display_name": "Python 3",
   "language": "python",
   "name": "python3"
  },
  "language_info": {
   "codemirror_mode": {
    "name": "ipython",
    "version": 3
   },
   "file_extension": ".py",
   "mimetype": "text/x-python",
   "name": "python",
   "nbconvert_exporter": "python",
   "pygments_lexer": "ipython3",
   "version": "3.8.5"
  }
 },
 "nbformat": 4,
 "nbformat_minor": 4
}
