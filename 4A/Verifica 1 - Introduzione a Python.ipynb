{
 "cells": [
  {
   "cell_type": "markdown",
   "metadata": {},
   "source": [
    "# Esercizio 1: palindromi\n",
    "\n",
    "Scrivere una funzione che prende una parola in input e controlla se la parola è un palindromo (es. abcba).\n",
    "Verificare la soluzione sulle parole:\n",
    "- \"abccba\" --> si\n",
    "- \"aerea\" --> si\n",
    "- \"polpo\" --> no"
   ]
  },
  {
   "cell_type": "code",
   "execution_count": 2,
   "metadata": {},
   "outputs": [
    {
     "data": {
      "text/plain": [
       "'cba'"
      ]
     },
     "execution_count": 2,
     "metadata": {},
     "output_type": "execute_result"
    }
   ],
   "source": [
    "# Hint: per roversciare una parola si usa\n",
    "\n",
    "parola = \"abc\"\n",
    "parola_rovesciata = parola[::-1]\n",
    "parola_rovesciata"
   ]
  },
  {
   "cell_type": "code",
   "execution_count": 5,
   "metadata": {},
   "outputs": [],
   "source": [
    "# codice"
   ]
  },
  {
   "cell_type": "code",
   "execution_count": 6,
   "metadata": {},
   "outputs": [],
   "source": [
    "# verifica"
   ]
  },
  {
   "cell_type": "markdown",
   "metadata": {},
   "source": [
    "# Esercizio 2: Collatz conjecture\n",
    "\n",
    "Scrivere una funzione che prende un numero **n** in input e genera la sequenza di Collatz per il numero. La regola è:\n",
    "\n",
    "**finchè n non è 1**\n",
    "- se n è pari, il nuovo n è n/2\n",
    "- se n è dispari, il nuovo n è 3n+1\n",
    "\n",
    "Esempio: se partiamo con 5, la sequenza è 5 --> 16 --> 8 --> 4 --> 2 --> 1.\n",
    "\n",
    "Ricordare di stampare **n** all'interno del ciclo che usate."
   ]
  },
  {
   "cell_type": "code",
   "execution_count": null,
   "metadata": {},
   "outputs": [],
   "source": []
  }
 ],
 "metadata": {
  "kernelspec": {
   "display_name": "Python 3",
   "language": "python",
   "name": "python3"
  },
  "language_info": {
   "codemirror_mode": {
    "name": "ipython",
    "version": 3
   },
   "file_extension": ".py",
   "mimetype": "text/x-python",
   "name": "python",
   "nbconvert_exporter": "python",
   "pygments_lexer": "ipython3",
   "version": "3.8.5"
  }
 },
 "nbformat": 4,
 "nbformat_minor": 4
}
