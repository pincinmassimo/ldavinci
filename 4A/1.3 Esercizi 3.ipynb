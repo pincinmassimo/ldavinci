{
 "cells": [
  {
   "cell_type": "markdown",
   "metadata": {},
   "source": [
    "# Esercizio 1: somma di quadrati\n",
    "\n",
    "Scrivere una funzione che prende in input un numero **n** e stampa i quadrati dei primi n numeri naturali, cioè 1, 4, 9, 16, ...\n",
    "\n",
    "Hints:\n",
    "- for i in range(inizio, fine): come cicliamo sui primi n numeri naturali?\n",
    "- per calcolare il quadrato di un numero x si usa x**2"
   ]
  },
  {
   "cell_type": "code",
   "execution_count": 6,
   "metadata": {},
   "outputs": [],
   "source": [
    "# codice"
   ]
  },
  {
   "cell_type": "code",
   "execution_count": 7,
   "metadata": {},
   "outputs": [],
   "source": [
    "# testing"
   ]
  },
  {
   "cell_type": "markdown",
   "metadata": {},
   "source": [
    "# Esercizio 2: c1ns2n3nt4\n",
    "\n",
    "Scrivere una funzione che prende una parola (senza spazi) in input e conta quante vocali e quante consonanti ci sono.\n",
    "\n",
    "Hints: \n",
    "- possiamo ciclare sulle lettere di una parola con **for i in parola**\n",
    "- possiamo controllare se qualcosa è una vocale con **if qualcosa in 'aeiou'**"
   ]
  },
  {
   "cell_type": "code",
   "execution_count": 8,
   "metadata": {},
   "outputs": [],
   "source": [
    "# codice"
   ]
  },
  {
   "cell_type": "code",
   "execution_count": 9,
   "metadata": {},
   "outputs": [],
   "source": [
    "# testing"
   ]
  },
  {
   "cell_type": "markdown",
   "metadata": {},
   "source": [
    "# Esercizio 3: somma di quadrati, ma con liste\n",
    "\n",
    "Modificare l'esercizio 1 (fare copy-paste sotto, poi modificarlo) in modo che, invece di stampare un quadrato per uno, aggiunga i quadrati a una lista (inizialmente vuota) e a fine funzione stampi la lista.\n",
    "\n",
    "Hints:\n",
    "- una lista vuota si inizializza con lista = []\n",
    "- aggiungiamo elementi a una lista con lista.append(elemento)"
   ]
  },
  {
   "cell_type": "code",
   "execution_count": 10,
   "metadata": {},
   "outputs": [],
   "source": [
    "# codice"
   ]
  },
  {
   "cell_type": "code",
   "execution_count": 11,
   "metadata": {},
   "outputs": [],
   "source": [
    "# testing"
   ]
  }
 ],
 "metadata": {
  "kernelspec": {
   "display_name": "Python 3",
   "language": "python",
   "name": "python3"
  },
  "language_info": {
   "codemirror_mode": {
    "name": "ipython",
    "version": 3
   },
   "file_extension": ".py",
   "mimetype": "text/x-python",
   "name": "python",
   "nbconvert_exporter": "python",
   "pygments_lexer": "ipython3",
   "version": "3.8.5"
  }
 },
 "nbformat": 4,
 "nbformat_minor": 4
}
