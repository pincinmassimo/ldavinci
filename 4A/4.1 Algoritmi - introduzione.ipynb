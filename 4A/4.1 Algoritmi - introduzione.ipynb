{
 "cells": [
  {
   "cell_type": "markdown",
   "id": "d532cc16-a3d6-4c1e-8f54-cc2e349f31d5",
   "metadata": {},
   "source": [
    "# Algoritmi e complessità computazionale"
   ]
  },
  {
   "cell_type": "markdown",
   "id": "e8310a85-2491-41cd-9d3a-624421853952",
   "metadata": {},
   "source": [
    "## Esempio introduttivo: somma di numeri in una lista\n",
    "\n",
    "Esercizio: \n",
    "- scrivere due algoritmi per la somma dei primi N numeri\n",
    "    - il primo è iterativo (usando il ciclo for)\n",
    "    - il secondo usa la formula di Gauss\n",
    "- importare la libreria time e usare la funzione time.clock() per verificare il tempo trascorso tra la fine e l'inizio dei due algoritmi su delle liste test\n",
    "- commentare i risultati\n",
    "- graficare i risultati usando la libreria matplotlib"
   ]
  },
  {
   "cell_type": "code",
   "execution_count": null,
   "id": "729b0e3b-0d39-41eb-8049-a12874928b6c",
   "metadata": {},
   "outputs": [],
   "source": []
  },
  {
   "cell_type": "markdown",
   "id": "634ed2d0-20dd-40af-8f28-4863c2c60b35",
   "metadata": {},
   "source": [
    "Definizione: un algoritmo *A* ha complessità computazionale $O(f(N))$ se esiste una costante *c* tale che per il numero di operazioni elementari $T_A(N)$ necessarie affinché l'algoritmo calcola la soluzione per un input di dimensione *N* vale $T_A(N)\\leq c \\cdot f(N)$."
   ]
  }
 ],
 "metadata": {
  "kernelspec": {
   "display_name": "Python 3 (ipykernel)",
   "language": "python",
   "name": "python3"
  },
  "language_info": {
   "codemirror_mode": {
    "name": "ipython",
    "version": 3
   },
   "file_extension": ".py",
   "mimetype": "text/x-python",
   "name": "python",
   "nbconvert_exporter": "python",
   "pygments_lexer": "ipython3",
   "version": "3.12.4"
  }
 },
 "nbformat": 4,
 "nbformat_minor": 5
}
