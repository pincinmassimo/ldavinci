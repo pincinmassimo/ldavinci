{
 "cells": [
  {
   "cell_type": "markdown",
   "id": "c0800c76-46e6-4ddd-aa57-4858c90e9c74",
   "metadata": {},
   "source": [
    "# Generare la tavola"
   ]
  },
  {
   "cell_type": "code",
   "execution_count": 51,
   "id": "2185e5b6-934c-4015-9d9c-441100a50147",
   "metadata": {},
   "outputs": [],
   "source": [
    "def generate_board():\n",
    "    board = [[\" \", \" \", \" \"], [\" \", \" \", \" \"], [\" \", \" \", \" \"]]\n",
    "    return board"
   ]
  },
  {
   "cell_type": "code",
   "execution_count": 53,
   "id": "1a39afa4-1516-4cdc-a383-e174f25181c5",
   "metadata": {},
   "outputs": [],
   "source": [
    "tavola = generate_board()"
   ]
  },
  {
   "cell_type": "code",
   "execution_count": 55,
   "id": "1d2114a8-e1fd-4e1b-992e-f76f8483c00a",
   "metadata": {},
   "outputs": [
    {
     "data": {
      "text/plain": [
       "[[' ', ' ', ' '], [' ', ' ', ' '], [' ', ' ', ' ']]"
      ]
     },
     "execution_count": 55,
     "metadata": {},
     "output_type": "execute_result"
    }
   ],
   "source": [
    "tavola"
   ]
  },
  {
   "cell_type": "code",
   "execution_count": 57,
   "id": "fb81af29-ac8f-4d1f-b932-0af457d4135d",
   "metadata": {},
   "outputs": [],
   "source": [
    "def print_board(board):\n",
    "    print(f\"{board[0][0]}|{board[0][1]}|{board[0][2]}\")\n",
    "    print(\"- - -\")\n",
    "    print(f\"{board[1][0]}|{board[1][1]}|{board[1][2]}\")\n",
    "    print(\"- - -\")\n",
    "    print(f\"{board[2][0]}|{board[2][1]}|{board[2][2]}\")"
   ]
  },
  {
   "cell_type": "code",
   "execution_count": 59,
   "id": "c61b3da1-9a34-40e2-b56f-cd54189ac848",
   "metadata": {},
   "outputs": [
    {
     "name": "stdout",
     "output_type": "stream",
     "text": [
      " | | \n",
      "- - -\n",
      " | | \n",
      "- - -\n",
      " | | \n"
     ]
    }
   ],
   "source": [
    "print_board(tavola)"
   ]
  },
  {
   "cell_type": "markdown",
   "id": "34d10fa2-e607-452f-bdfd-ae31d31ff994",
   "metadata": {},
   "source": [
    "# Condizioni di vittoria"
   ]
  },
  {
   "cell_type": "code",
   "execution_count": 11,
   "id": "db6a0c5f-a2ba-44d7-acc1-5f1a177f3452",
   "metadata": {},
   "outputs": [],
   "source": [
    "def check_win(board):\n",
    "    # righe uguali\n",
    "    for i in range(3):\n",
    "        if board[i][0] == board[i][1] == board[i][2]:\n",
    "            print(\"You win! (righe)\")\n",
    "            return True\n",
    "    # colonne uguali\n",
    "    for i in range(3):\n",
    "        if board[0][i] == board[1][i] == board[2][i]:\n",
    "            print(\"You win! (colonne)\")\n",
    "            return True\n",
    "    # diagonali\n",
    "    if board[0][0] == board[1][1] == board[2][2]:\n",
    "        print(\"You win! (diagonale)\")\n",
    "        return True\n",
    "    if board[0][2] == board[1][1] == board[2][0]:\n",
    "        print(\"You win! (diagonale)\")\n",
    "        return True\n",
    "    else:\n",
    "        print(\"Nessuno ha ancora vinto.\")\n",
    "        return False"
   ]
  },
  {
   "cell_type": "code",
   "execution_count": 67,
   "id": "44ffcf56-f84f-44f7-93f2-a9ed119d5ddd",
   "metadata": {},
   "outputs": [],
   "source": [
    "tavola = [[\"X\", \"O\", \"X\"], [\" \", \" \", \" \"], [\"X\", \"O\", \"X\"]]"
   ]
  },
  {
   "cell_type": "code",
   "execution_count": 69,
   "id": "55151b44-1c54-454c-a2e4-fcba198587a8",
   "metadata": {},
   "outputs": [
    {
     "name": "stdout",
     "output_type": "stream",
     "text": [
      "X|O|X\n",
      "- - -\n",
      " | | \n",
      "- - -\n",
      "X|O|X\n"
     ]
    }
   ],
   "source": [
    "print_board(tavola)"
   ]
  },
  {
   "cell_type": "code",
   "execution_count": 29,
   "id": "4b67e0c8-45c1-4995-8f5f-c171c86127e6",
   "metadata": {},
   "outputs": [
    {
     "name": "stdout",
     "output_type": "stream",
     "text": [
      "Nessuno ha ancora vinto.\n"
     ]
    },
    {
     "data": {
      "text/plain": [
       "False"
      ]
     },
     "execution_count": 29,
     "metadata": {},
     "output_type": "execute_result"
    }
   ],
   "source": [
    "check_win(tavola)"
   ]
  },
  {
   "cell_type": "code",
   "execution_count": 71,
   "id": "fefaf035-47c4-4629-bb02-a4dc50d33dcb",
   "metadata": {},
   "outputs": [],
   "source": [
    "def switch(item):\n",
    "    if item==\"X\":\n",
    "        return \"O\"\n",
    "    else:\n",
    "        return \"X\""
   ]
  },
  {
   "cell_type": "code",
   "execution_count": 89,
   "id": "5e002469-1c37-4d0c-a617-694284e5e9ed",
   "metadata": {},
   "outputs": [],
   "source": [
    "def gioca():\n",
    "    tavola = generate_board()\n",
    "    current = input(\"Giocatore 1, X o O?\")\n",
    "    while True:\n",
    "        print_board(tavola)\n",
    "        x = int(input(f\"Giocatore {current}, inserisci la coordinata VERTICALE (da su in giu)\"))\n",
    "        y = int(input(f\"Giocatore {current}, inserisci la coordinata ORIZZONTALE (da sx a dx)\"))\n",
    "        tavola[x][y] = current\n",
    "        print_board(tavola)\n",
    "        \n",
    "        break"
   ]
  },
  {
   "cell_type": "code",
   "execution_count": 91,
   "id": "76c7eea4-710c-48ac-b897-6f7c6e9de309",
   "metadata": {},
   "outputs": [
    {
     "name": "stdin",
     "output_type": "stream",
     "text": [
      "Giocatore 1, X o O? X\n"
     ]
    },
    {
     "name": "stdout",
     "output_type": "stream",
     "text": [
      " | | \n",
      "- - -\n",
      " | | \n",
      "- - -\n",
      " | | \n"
     ]
    },
    {
     "name": "stdin",
     "output_type": "stream",
     "text": [
      "Giocatore X, inserisci la coordinata VERTICALE (da su in giu) 0\n",
      "Giocatore X, inserisci la coordinata ORIZZONTALE (da sx a dx) 2\n"
     ]
    },
    {
     "name": "stdout",
     "output_type": "stream",
     "text": [
      " | |X\n",
      "- - -\n",
      " | | \n",
      "- - -\n",
      " | | \n"
     ]
    }
   ],
   "source": [
    "gioca()"
   ]
  }
 ],
 "metadata": {
  "kernelspec": {
   "display_name": "Python 3 (ipykernel)",
   "language": "python",
   "name": "python3"
  },
  "language_info": {
   "codemirror_mode": {
    "name": "ipython",
    "version": 3
   },
   "file_extension": ".py",
   "mimetype": "text/x-python",
   "name": "python",
   "nbconvert_exporter": "python",
   "pygments_lexer": "ipython3",
   "version": "3.12.4"
  }
 },
 "nbformat": 4,
 "nbformat_minor": 5
}
